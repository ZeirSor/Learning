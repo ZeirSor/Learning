{
 "cells": [
  {
   "cell_type": "code",
   "execution_count": 1,
   "id": "407ff7cd",
   "metadata": {
    "pycharm": {
     "name": "#%%\n"
    }
   },
   "outputs": [
    {
     "name": "stdout",
     "output_type": "stream",
     "text": [
      "Tom\n"
     ]
    }
   ],
   "source": [
    "class Person:\n",
    "    nationality = 'China'\n",
    "    _deposit = 10e10\n",
    "    __gender = 'M'\n",
    "    \n",
    "    def __init__(self, name, age):\n",
    "        self.name = name\n",
    "        age = age\n",
    "        \n",
    "    def say_hi(self):\n",
    "        print(self.name)\n",
    "        \n",
    "    \n",
    "p1 = Person('Tom', 30)\n",
    "p1.say_hi()"
   ]
  },
  {
   "cell_type": "code",
   "execution_count": 1,
   "id": "871c5326",
   "metadata": {
    "pycharm": {
     "name": "#%%\n"
    }
   },
   "outputs": [],
   "source": [
    "a = 1"
   ]
  },
  {
   "cell_type": "code",
   "execution_count": 2,
   "outputs": [
    {
     "data": {
      "text/plain": "1"
     },
     "execution_count": 2,
     "metadata": {},
     "output_type": "execute_result"
    }
   ],
   "source": [
    "a"
   ],
   "metadata": {
    "collapsed": false,
    "pycharm": {
     "name": "#%%\n"
    }
   }
  },
  {
   "cell_type": "code",
   "execution_count": null,
   "outputs": [],
   "source": [],
   "metadata": {
    "collapsed": false,
    "pycharm": {
     "name": "#%%\n"
    }
   }
  }
 ],
 "metadata": {
  "kernelspec": {
   "display_name": "Python 3 (ipykernel)",
   "language": "python",
   "name": "python3"
  },
  "language_info": {
   "codemirror_mode": {
    "name": "ipython",
    "version": 3
   },
   "file_extension": ".py",
   "mimetype": "text/x-python",
   "name": "python",
   "nbconvert_exporter": "python",
   "pygments_lexer": "ipython3",
   "version": "3.9.12"
  }
 },
 "nbformat": 4,
 "nbformat_minor": 5
}