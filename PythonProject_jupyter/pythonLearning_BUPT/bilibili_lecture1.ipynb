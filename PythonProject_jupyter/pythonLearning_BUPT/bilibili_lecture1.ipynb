{
 "cells": [
  {
   "cell_type": "markdown",
   "id": "6e0a2771",
   "metadata": {},
   "source": [
    "python 中的字符串引号可单可双"
   ]
  },
  {
   "cell_type": "code",
   "execution_count": 8,
   "id": "693aba23",
   "metadata": {},
   "outputs": [
    {
     "name": "stdout",
     "output_type": "stream",
     "text": [
      "hello world!\n",
      "hello world!\n",
      "hello, world!\n",
      "hello, world!\n",
      "hello , world\n",
      "hello,  world!\n"
     ]
    }
   ],
   "source": [
    "print(\"hello world!\")\n",
    "print('hello world!')\n",
    "print('hello, ' +  'world!')\n",
    "print(\"hello, \" + \"world!\")\n",
    "# 格式化字符串\n",
    "print('{}, {}'.format('hello ', 'world')) # 占位符\n",
    "print('%s, %s!' % ('hello', ' world'))    # %s"
   ]
  },
  {
   "cell_type": "code",
   "execution_count": 9,
   "id": "8d5b1289",
   "metadata": {},
   "outputs": [
    {
     "name": "stdout",
     "output_type": "stream",
     "text": [
      "Help on built-in function print in module builtins:\n",
      "\n",
      "print(...)\n",
      "    print(value, ..., sep=' ', end='\\n', file=sys.stdout, flush=False)\n",
      "    \n",
      "    Prints the values to a stream, or to sys.stdout by default.\n",
      "    Optional keyword arguments:\n",
      "    file:  a file-like object (stream); defaults to the current sys.stdout.\n",
      "    sep:   string inserted between values, default a space.\n",
      "    end:   string appended after the last value, default a newline.\n",
      "    flush: whether to forcibly flush the stream.\n",
      "\n"
     ]
    }
   ],
   "source": [
    "help(print)"
   ]
  },
  {
   "cell_type": "code",
   "execution_count": null,
   "id": "fe31324d",
   "metadata": {},
   "outputs": [],
   "source": []
  }
 ],
 "metadata": {
  "kernelspec": {
   "display_name": "Python 3 (ipykernel)",
   "language": "python",
   "name": "python3"
  },
  "language_info": {
   "codemirror_mode": {
    "name": "ipython",
    "version": 3
   },
   "file_extension": ".py",
   "mimetype": "text/x-python",
   "name": "python",
   "nbconvert_exporter": "python",
   "pygments_lexer": "ipython3",
   "version": "3.9.12"
  }
 },
 "nbformat": 4,
 "nbformat_minor": 5
}
