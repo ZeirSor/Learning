{
 "cells": [
  {
   "cell_type": "markdown",
   "id": "0ce8bacc",
   "metadata": {},
   "source": [
    "# guess figure"
   ]
  },
  {
   "cell_type": "code",
   "execution_count": 1,
   "id": "75aaf8b8",
   "metadata": {},
   "outputs": [
    {
     "name": "stdout",
     "output_type": "stream",
     "text": [
      "guess?50\n",
      "more!7\n"
     ]
    }
   ],
   "source": [
    "import random\n",
    "answer = random.randint(1,100)\n",
    "guess = input('guess?')\n",
    "guessNum = int(guess)\n",
    "if guessNum > answer:\n",
    "    guess = input('more!')\n",
    "elif guessNum < answer:\n",
    "    guess = input('less!')\n",
    "else:\n",
    "    print('you are so smart!')"
   ]
  },
  {
   "cell_type": "code",
   "execution_count": 2,
   "id": "c5b18e35",
   "metadata": {},
   "outputs": [
    {
     "name": "stdout",
     "output_type": "stream",
     "text": [
      "guess?50\n",
      "less!75\n",
      "less!87\n",
      "more!78\n",
      "you are so smart!\n"
     ]
    }
   ],
   "source": [
    "answer = random.randint(1,100)\n",
    "guess = input('guess?')\n",
    "while guessNum != answer:\n",
    "    guessNum = int(guess)\n",
    "    if guessNum > answer:\n",
    "        guess = input('more!')\n",
    "    elif guessNum < answer:\n",
    "        guess = input('less!')\n",
    "    else:\n",
    "        print('you are so smart!')"
   ]
  },
  {
   "cell_type": "code",
   "execution_count": 3,
   "id": "b1be9d9c",
   "metadata": {},
   "outputs": [
    {
     "name": "stdout",
     "output_type": "stream",
     "text": [
      "guess?50\n",
      "less!75\n",
      "less!87\n",
      "you are so smart!\n"
     ]
    }
   ],
   "source": [
    "answer = random.randint(1,100)\n",
    "prompt = 'guess?'\n",
    "while guessNum != answer:\n",
    "    guess = input(prompt)\n",
    "    guessNum = int(guess)\n",
    "    \n",
    "    if guessNum > answer:\n",
    "        prompt = 'more!'\n",
    "    elif guessNum < answer:\n",
    "        prompt = 'less!'\n",
    "    else:\n",
    "        print('you are so smart!')"
   ]
  },
  {
   "cell_type": "code",
   "execution_count": 5,
   "id": "df26c300",
   "metadata": {},
   "outputs": [
    {
     "name": "stdout",
     "output_type": "stream",
     "text": [
      "1\n",
      "2\n",
      "3\n"
     ]
    }
   ],
   "source": [
    "for a in (1, 2, 3):\n",
    "    print(a)"
   ]
  },
  {
   "cell_type": "code",
   "execution_count": 6,
   "id": "77e9985c",
   "metadata": {},
   "outputs": [
    {
     "name": "stdout",
     "output_type": "stream",
     "text": [
      "Help on class range in module builtins:\n",
      "\n",
      "class range(object)\n",
      " |  range(stop) -> range object\n",
      " |  range(start, stop[, step]) -> range object\n",
      " |  \n",
      " |  Return an object that produces a sequence of integers from start (inclusive)\n",
      " |  to stop (exclusive) by step.  range(i, j) produces i, i+1, i+2, ..., j-1.\n",
      " |  start defaults to 0, and stop is omitted!  range(4) produces 0, 1, 2, 3.\n",
      " |  These are exactly the valid indices for a list of 4 elements.\n",
      " |  When step is given, it specifies the increment (or decrement).\n",
      " |  \n",
      " |  Methods defined here:\n",
      " |  \n",
      " |  __bool__(self, /)\n",
      " |      True if self else False\n",
      " |  \n",
      " |  __contains__(self, key, /)\n",
      " |      Return key in self.\n",
      " |  \n",
      " |  __eq__(self, value, /)\n",
      " |      Return self==value.\n",
      " |  \n",
      " |  __ge__(self, value, /)\n",
      " |      Return self>=value.\n",
      " |  \n",
      " |  __getattribute__(self, name, /)\n",
      " |      Return getattr(self, name).\n",
      " |  \n",
      " |  __getitem__(self, key, /)\n",
      " |      Return self[key].\n",
      " |  \n",
      " |  __gt__(self, value, /)\n",
      " |      Return self>value.\n",
      " |  \n",
      " |  __hash__(self, /)\n",
      " |      Return hash(self).\n",
      " |  \n",
      " |  __iter__(self, /)\n",
      " |      Implement iter(self).\n",
      " |  \n",
      " |  __le__(self, value, /)\n",
      " |      Return self<=value.\n",
      " |  \n",
      " |  __len__(self, /)\n",
      " |      Return len(self).\n",
      " |  \n",
      " |  __lt__(self, value, /)\n",
      " |      Return self<value.\n",
      " |  \n",
      " |  __ne__(self, value, /)\n",
      " |      Return self!=value.\n",
      " |  \n",
      " |  __reduce__(...)\n",
      " |      Helper for pickle.\n",
      " |  \n",
      " |  __repr__(self, /)\n",
      " |      Return repr(self).\n",
      " |  \n",
      " |  __reversed__(...)\n",
      " |      Return a reverse iterator.\n",
      " |  \n",
      " |  count(...)\n",
      " |      rangeobject.count(value) -> integer -- return number of occurrences of value\n",
      " |  \n",
      " |  index(...)\n",
      " |      rangeobject.index(value) -> integer -- return index of value.\n",
      " |      Raise ValueError if the value is not present.\n",
      " |  \n",
      " |  ----------------------------------------------------------------------\n",
      " |  Static methods defined here:\n",
      " |  \n",
      " |  __new__(*args, **kwargs) from builtins.type\n",
      " |      Create and return a new object.  See help(type) for accurate signature.\n",
      " |  \n",
      " |  ----------------------------------------------------------------------\n",
      " |  Data descriptors defined here:\n",
      " |  \n",
      " |  start\n",
      " |  \n",
      " |  step\n",
      " |  \n",
      " |  stop\n",
      "\n"
     ]
    }
   ],
   "source": [
    "help(range)"
   ]
  },
  {
   "cell_type": "code",
   "execution_count": 8,
   "id": "2cf78228",
   "metadata": {},
   "outputs": [
    {
     "name": "stdout",
     "output_type": "stream",
     "text": [
      "1\n",
      "2\n",
      "3\n",
      "4\n",
      "5\n",
      "6\n",
      "7\n",
      "8\n"
     ]
    }
   ],
   "source": [
    "# 左闭右开\n",
    "for a in range(1,9):\n",
    "    print(a)"
   ]
  },
  {
   "cell_type": "markdown",
   "id": "61ba9eca",
   "metadata": {},
   "source": [
    "# guess letter"
   ]
  },
  {
   "cell_type": "code",
   "execution_count": 9,
   "id": "0a672580",
   "metadata": {},
   "outputs": [],
   "source": [
    "alphabet = 'abcdefghijklmnopqrstuvwxyz'"
   ]
  },
  {
   "cell_type": "code",
   "execution_count": 13,
   "id": "52c08b76",
   "metadata": {
    "scrolled": true
   },
   "outputs": [
    {
     "data": {
      "text/plain": [
       "'z'"
      ]
     },
     "execution_count": 13,
     "metadata": {},
     "output_type": "execute_result"
    }
   ],
   "source": [
    "alphabet[25]"
   ]
  },
  {
   "cell_type": "code",
   "execution_count": 14,
   "id": "c33f9315",
   "metadata": {},
   "outputs": [
    {
     "data": {
      "text/plain": [
       "'d'"
      ]
     },
     "execution_count": 14,
     "metadata": {},
     "output_type": "execute_result"
    }
   ],
   "source": [
    "alphabet[random.randint(0,25)]"
   ]
  },
  {
   "cell_type": "code",
   "execution_count": 16,
   "id": "761b9f73",
   "metadata": {},
   "outputs": [
    {
     "data": {
      "text/plain": [
       "97"
      ]
     },
     "execution_count": 16,
     "metadata": {},
     "output_type": "execute_result"
    }
   ],
   "source": [
    "ord('a')"
   ]
  },
  {
   "cell_type": "code",
   "execution_count": 17,
   "id": "f8f445e5",
   "metadata": {},
   "outputs": [
    {
     "data": {
      "text/plain": [
       "25"
      ]
     },
     "execution_count": 17,
     "metadata": {},
     "output_type": "execute_result"
    }
   ],
   "source": [
    "ord('z') - ord('a')"
   ]
  },
  {
   "cell_type": "code",
   "execution_count": 18,
   "id": "3dae9dca",
   "metadata": {},
   "outputs": [
    {
     "data": {
      "text/plain": [
       "'a'"
      ]
     },
     "execution_count": 18,
     "metadata": {},
     "output_type": "execute_result"
    }
   ],
   "source": [
    "chr(97)"
   ]
  },
  {
   "cell_type": "code",
   "execution_count": 19,
   "id": "49135dff",
   "metadata": {},
   "outputs": [
    {
     "data": {
      "text/plain": [
       "'z'"
      ]
     },
     "execution_count": 19,
     "metadata": {},
     "output_type": "execute_result"
    }
   ],
   "source": [
    "chr(97 + 25)"
   ]
  },
  {
   "cell_type": "code",
   "execution_count": 21,
   "id": "7c36a6ac",
   "metadata": {},
   "outputs": [
    {
     "data": {
      "text/plain": [
       "'y'"
      ]
     },
     "execution_count": 21,
     "metadata": {},
     "output_type": "execute_result"
    }
   ],
   "source": [
    "# 获得随机字母\n",
    "chr(random.randint(97, 122))"
   ]
  },
  {
   "cell_type": "code",
   "execution_count": 1,
   "id": "ea29762b",
   "metadata": {},
   "outputs": [
    {
     "name": "stdout",
     "output_type": "stream",
     "text": [
      "guess?g\n",
      "less!m\n",
      "less!t\n",
      "less!w\n",
      "you are so smart!\n"
     ]
    }
   ],
   "source": [
    "import random\n",
    "\n",
    "answer = chr(random.randint(97, 122))\n",
    "prompt = 'guess?'\n",
    "while 1:\n",
    "    guess = input(prompt)\n",
    "    \n",
    "    if guess > answer:\n",
    "        prompt = 'more!'\n",
    "    elif guess < answer:\n",
    "        prompt = 'less!'\n",
    "    else:\n",
    "        print('you are so smart!')\n",
    "        break"
   ]
  },
  {
   "cell_type": "code",
   "execution_count": 1,
   "id": "bb645e78",
   "metadata": {},
   "outputs": [
    {
     "data": {
      "text/plain": [
       "True"
      ]
     },
     "execution_count": 1,
     "metadata": {},
     "output_type": "execute_result"
    }
   ],
   "source": [
    "'23' in '1234435'"
   ]
  },
  {
   "cell_type": "code",
   "execution_count": 2,
   "id": "4d4ddc85",
   "metadata": {},
   "outputs": [
    {
     "data": {
      "text/plain": [
       "True"
      ]
     },
     "execution_count": 2,
     "metadata": {},
     "output_type": "execute_result"
    }
   ],
   "source": [
    "'23' in \"1234435\""
   ]
  },
  {
   "cell_type": "code",
   "execution_count": 4,
   "id": "30ed362d",
   "metadata": {},
   "outputs": [
    {
     "name": "stdout",
     "output_type": "stream",
     "text": [
      "2\n",
      "3\n",
      "4\n",
      "2\n",
      "3\n",
      "d\n",
      "f\n",
      "a\n",
      "s\n",
      "j\n",
      "o\n",
      "囧\n",
      "囧\n",
      "3\n",
      "4\n"
     ]
    }
   ],
   "source": [
    "for a in '23423dfasjo囧囧34':\n",
    "    print(a)"
   ]
  },
  {
   "cell_type": "markdown",
   "id": "5513c26f",
   "metadata": {},
   "source": [
    "## **pdb** 调试"
   ]
  },
  {
   "cell_type": "markdown",
   "id": "624c94b3",
   "metadata": {},
   "source": [
    "#### 方式一"
   ]
  },
  {
   "cell_type": "code",
   "execution_count": null,
   "id": "498bef1a",
   "metadata": {},
   "outputs": [
    {
     "ename": "ZeroDivisionError",
     "evalue": "division by zero",
     "output_type": "error",
     "traceback": [
      "\u001b[1;31m---------------------------------------------------------------------------\u001b[0m",
      "\u001b[1;31mZeroDivisionError\u001b[0m                         Traceback (most recent call last)",
      "Input \u001b[1;32mIn [7]\u001b[0m, in \u001b[0;36m<cell line: 3>\u001b[1;34m()\u001b[0m\n\u001b[0;32m      1\u001b[0m a \u001b[38;5;241m=\u001b[39m \u001b[38;5;241m1\u001b[39m\n\u001b[0;32m      2\u001b[0m b \u001b[38;5;241m=\u001b[39m \u001b[38;5;241m2\u001b[39m\n\u001b[1;32m----> 3\u001b[0m c \u001b[38;5;241m=\u001b[39m a \u001b[38;5;241m+\u001b[39m \u001b[43mb\u001b[49m\u001b[43m \u001b[49m\u001b[38;5;241;43m/\u001b[39;49m\u001b[43m \u001b[49m\u001b[38;5;241;43m0\u001b[39;49m\n",
      "\u001b[1;31mZeroDivisionError\u001b[0m: division by zero"
     ]
    },
    {
     "name": "stdout",
     "output_type": "stream",
     "text": [
      "> \u001b[1;32mc:\\users\\asus\\appdata\\local\\temp\\ipykernel_3476\\4011542955.py\u001b[0m(3)\u001b[0;36m<cell line: 3>\u001b[1;34m()\u001b[0m\n",
      "\n",
      "ipdb> a\n",
      "ipdb> print(a)\n",
      "1\n",
      "ipdb> print(b)\n",
      "2\n",
      "ipdb> print(c)\n",
      "*** NameError: name 'c' is not defined\n"
     ]
    }
   ],
   "source": [
    "a = 1\n",
    "b = 2\n",
    "c = a + b / 0"
   ]
  },
  {
   "cell_type": "code",
   "execution_count": 6,
   "id": "9b0917d3",
   "metadata": {},
   "outputs": [
    {
     "name": "stdout",
     "output_type": "stream",
     "text": [
      "Automatic pdb calling has been turned ON\n"
     ]
    }
   ],
   "source": [
    "%pdb"
   ]
  },
  {
   "cell_type": "markdown",
   "id": "88448c63",
   "metadata": {},
   "source": [
    "#### 方式二"
   ]
  },
  {
   "cell_type": "code",
   "execution_count": 1,
   "id": "9da277d6",
   "metadata": {},
   "outputs": [
    {
     "name": "stdout",
     "output_type": "stream",
     "text": [
      "--Return--\n",
      "None\n",
      "> \u001b[1;32mc:\\users\\asus\\appdata\\local\\temp\\ipykernel_17388\\251563433.py\u001b[0m(5)\u001b[0;36m<cell line: 5>\u001b[1;34m()\u001b[0m\n",
      "\n",
      "ipdb> print(b)\n",
      "*** NameError: name 'b' is not defined\n",
      "ipdb> print(a)\n",
      "1\n",
      "ipdb> exit()\n"
     ]
    }
   ],
   "source": [
    "import pdb\n",
    "\n",
    "a = 1\n",
    "# 设置断电\n",
    "pdb.set_trace()\n",
    "b = 2\n",
    "c = a + b / 0"
   ]
  },
  {
   "cell_type": "markdown",
   "id": "9fadbf55",
   "metadata": {},
   "source": [
    "# 关于hash与id"
   ]
  },
  {
   "cell_type": "code",
   "execution_count": 2,
   "id": "4b102f87",
   "metadata": {},
   "outputs": [
    {
     "name": "stdout",
     "output_type": "stream",
     "text": [
      "Help on built-in function hash in module builtins:\n",
      "\n",
      "hash(obj, /)\n",
      "    Return the hash value for the given object.\n",
      "    \n",
      "    Two objects that compare equal must also have the same hash value, but the\n",
      "    reverse is not necessarily true.\n",
      "\n"
     ]
    }
   ],
   "source": [
    "help(hash)\n"
   ]
  },
  {
   "cell_type": "code",
   "execution_count": 5,
   "id": "679f226d",
   "metadata": {},
   "outputs": [
    {
     "name": "stdout",
     "output_type": "stream",
     "text": [
      "4\n",
      "7401334377158407983\n"
     ]
    }
   ],
   "source": [
    "print(hash(4))\n",
    "print(hash('4'))"
   ]
  },
  {
   "cell_type": "markdown",
   "id": "57860912",
   "metadata": {},
   "source": [
    "### 可变元素无哈希"
   ]
  },
  {
   "cell_type": "code",
   "execution_count": 6,
   "id": "347f913e",
   "metadata": {},
   "outputs": [
    {
     "ename": "TypeError",
     "evalue": "unhashable type: 'list'",
     "output_type": "error",
     "traceback": [
      "\u001b[1;31m---------------------------------------------------------------------------\u001b[0m",
      "\u001b[1;31mTypeError\u001b[0m                                 Traceback (most recent call last)",
      "Input \u001b[1;32mIn [6]\u001b[0m, in \u001b[0;36m<cell line: 1>\u001b[1;34m()\u001b[0m\n\u001b[1;32m----> 1\u001b[0m \u001b[38;5;28;43mhash\u001b[39;49m\u001b[43m(\u001b[49m\u001b[43m[\u001b[49m\u001b[38;5;124;43m'\u001b[39;49m\u001b[38;5;124;43m4\u001b[39;49m\u001b[38;5;124;43m'\u001b[39;49m\u001b[43m]\u001b[49m\u001b[43m)\u001b[49m\n",
      "\u001b[1;31mTypeError\u001b[0m: unhashable type: 'list'"
     ]
    }
   ],
   "source": [
    "hash(['4'])"
   ]
  },
  {
   "cell_type": "code",
   "execution_count": 7,
   "id": "990bc18a",
   "metadata": {},
   "outputs": [
    {
     "data": {
      "text/plain": [
       "1269410523536"
      ]
     },
     "execution_count": 7,
     "metadata": {},
     "output_type": "execute_result"
    }
   ],
   "source": [
    "id(4)"
   ]
  },
  {
   "cell_type": "code",
   "execution_count": 9,
   "id": "94010759",
   "metadata": {},
   "outputs": [
    {
     "name": "stdout",
     "output_type": "stream",
     "text": [
      "Help on built-in function id in module builtins:\n",
      "\n",
      "id(obj, /)\n",
      "    Return the identity of an object.\n",
      "    \n",
      "    This is guaranteed to be unique among simultaneously existing objects.\n",
      "    (CPython uses the object's memory address.)\n",
      "\n"
     ]
    }
   ],
   "source": [
    "help(id)"
   ]
  },
  {
   "cell_type": "code",
   "execution_count": 10,
   "id": "2633de43",
   "metadata": {},
   "outputs": [
    {
     "data": {
      "text/plain": [
       "1269410523440"
      ]
     },
     "execution_count": 10,
     "metadata": {},
     "output_type": "execute_result"
    }
   ],
   "source": [
    "a = 1\n",
    "# 先创建一个整形对象，将1放进这个对象里，然后把a指向这个对象\n",
    "id(a)"
   ]
  },
  {
   "cell_type": "code",
   "execution_count": 11,
   "id": "aa9fea24",
   "metadata": {},
   "outputs": [
    {
     "data": {
      "text/plain": [
       "1269410523472"
      ]
     },
     "execution_count": 11,
     "metadata": {},
     "output_type": "execute_result"
    }
   ],
   "source": [
    "a = 2\n",
    "id(a)"
   ]
  },
  {
   "cell_type": "code",
   "execution_count": 13,
   "id": "f2c1d815",
   "metadata": {},
   "outputs": [
    {
     "data": {
      "text/plain": [
       "4"
      ]
     },
     "execution_count": 13,
     "metadata": {},
     "output_type": "execute_result"
    }
   ],
   "source": [
    "a = a + 1\n",
    "a"
   ]
  },
  {
   "cell_type": "code",
   "execution_count": 14,
   "id": "f13fc9b4",
   "metadata": {},
   "outputs": [
    {
     "data": {
      "text/plain": [
       "1269410523536"
      ]
     },
     "execution_count": 14,
     "metadata": {},
     "output_type": "execute_result"
    }
   ],
   "source": [
    "id(a)"
   ]
  },
  {
   "cell_type": "code",
   "execution_count": 15,
   "id": "f65c073c",
   "metadata": {},
   "outputs": [
    {
     "name": "stdout",
     "output_type": "stream",
     "text": [
      "1269410523440\n",
      "1269410523440\n"
     ]
    }
   ],
   "source": [
    "b = 1\n",
    "print(id(b))\n",
    "print(id(1))"
   ]
  },
  {
   "cell_type": "markdown",
   "id": "f6bce813",
   "metadata": {},
   "source": [
    "## 什么是可变元素？"
   ]
  },
  {
   "cell_type": "code",
   "execution_count": 16,
   "id": "55ae0c76",
   "metadata": {},
   "outputs": [
    {
     "name": "stdout",
     "output_type": "stream",
     "text": [
      "1269519971328\n",
      "[1, 2, 3]\n",
      "1269519971328\n"
     ]
    }
   ],
   "source": [
    "a = [1, 2]\n",
    "print(id(a))\n",
    "a.append(3)\n",
    "print(a)\n",
    "print(id(a))"
   ]
  },
  {
   "cell_type": "markdown",
   "id": "e220ef78",
   "metadata": {},
   "source": [
    "**可变元素：值发生变化，但是地址没有变化**\n",
    "\n",
    "eg. 列表、字典、集合等属于可变元素"
   ]
  },
  {
   "cell_type": "code",
   "execution_count": 17,
   "id": "ab2ba424",
   "metadata": {},
   "outputs": [
    {
     "data": {
      "text/plain": [
       "-8743985174285503676"
      ]
     },
     "execution_count": 17,
     "metadata": {},
     "output_type": "execute_result"
    }
   ],
   "source": [
    "hash('hello')"
   ]
  },
  {
   "cell_type": "code",
   "execution_count": 18,
   "id": "3866e354",
   "metadata": {},
   "outputs": [
    {
     "data": {
      "text/plain": [
       "-8743985174285503676"
      ]
     },
     "execution_count": 18,
     "metadata": {},
     "output_type": "execute_result"
    }
   ],
   "source": [
    "hash('hello')"
   ]
  },
  {
   "cell_type": "markdown",
   "id": "6fe4a1fd",
   "metadata": {},
   "source": [
    "*restart*"
   ]
  },
  {
   "cell_type": "code",
   "execution_count": 1,
   "id": "2b22f90f",
   "metadata": {},
   "outputs": [
    {
     "data": {
      "text/plain": [
       "-1323442395794571219"
      ]
     },
     "execution_count": 1,
     "metadata": {},
     "output_type": "execute_result"
    }
   ],
   "source": [
    "hash('hello')"
   ]
  },
  {
   "cell_type": "code",
   "execution_count": 2,
   "id": "9e09611f",
   "metadata": {},
   "outputs": [
    {
     "data": {
      "text/plain": [
       "-1323442395794571219"
      ]
     },
     "execution_count": 2,
     "metadata": {},
     "output_type": "execute_result"
    }
   ],
   "source": [
    "hash('hello')"
   ]
  },
  {
   "cell_type": "code",
   "execution_count": 3,
   "id": "594534f1",
   "metadata": {},
   "outputs": [
    {
     "data": {
      "text/plain": [
       "2494102398576"
      ]
     },
     "execution_count": 3,
     "metadata": {},
     "output_type": "execute_result"
    }
   ],
   "source": [
    "id('hello')"
   ]
  },
  {
   "cell_type": "code",
   "execution_count": 4,
   "id": "33190919",
   "metadata": {},
   "outputs": [
    {
     "data": {
      "text/plain": [
       "2494102398576"
      ]
     },
     "execution_count": 4,
     "metadata": {},
     "output_type": "execute_result"
    }
   ],
   "source": [
    "id('hello')"
   ]
  },
  {
   "cell_type": "markdown",
   "id": "0e6f1baf",
   "metadata": {},
   "source": [
    "*restart*"
   ]
  },
  {
   "cell_type": "code",
   "execution_count": 1,
   "id": "f1cca766",
   "metadata": {},
   "outputs": [
    {
     "data": {
      "text/plain": [
       "2378629998000"
      ]
     },
     "execution_count": 1,
     "metadata": {},
     "output_type": "execute_result"
    }
   ],
   "source": [
    "id('hello')"
   ]
  },
  {
   "cell_type": "code",
   "execution_count": 2,
   "id": "7016793e",
   "metadata": {},
   "outputs": [
    {
     "data": {
      "text/plain": [
       "2378629998000"
      ]
     },
     "execution_count": 2,
     "metadata": {},
     "output_type": "execute_result"
    }
   ],
   "source": [
    "id('hello')"
   ]
  },
  {
   "cell_type": "markdown",
   "id": "d0d15f36",
   "metadata": {},
   "source": [
    "### Python内部机制：对小的数复用优先，对大的数重建优先"
   ]
  },
  {
   "cell_type": "code",
   "execution_count": 3,
   "id": "a94bb8e7",
   "metadata": {},
   "outputs": [
    {
     "data": {
      "text/plain": [
       "2378557122864"
      ]
     },
     "execution_count": 3,
     "metadata": {},
     "output_type": "execute_result"
    }
   ],
   "source": [
    "id(1)"
   ]
  },
  {
   "cell_type": "code",
   "execution_count": 4,
   "id": "4f6f2478",
   "metadata": {},
   "outputs": [
    {
     "data": {
      "text/plain": [
       "2378557122864"
      ]
     },
     "execution_count": 4,
     "metadata": {},
     "output_type": "execute_result"
    }
   ],
   "source": [
    "id(1)"
   ]
  },
  {
   "cell_type": "code",
   "execution_count": 5,
   "id": "7ed4107b",
   "metadata": {},
   "outputs": [
    {
     "data": {
      "text/plain": [
       "2378557122864"
      ]
     },
     "execution_count": 5,
     "metadata": {},
     "output_type": "execute_result"
    }
   ],
   "source": [
    "id(1)"
   ]
  },
  {
   "cell_type": "code",
   "execution_count": 6,
   "id": "82f41e92",
   "metadata": {},
   "outputs": [
    {
     "data": {
      "text/plain": [
       "2378634432784"
      ]
     },
     "execution_count": 6,
     "metadata": {},
     "output_type": "execute_result"
    }
   ],
   "source": [
    "id(10**10)"
   ]
  },
  {
   "cell_type": "code",
   "execution_count": 7,
   "id": "51af59ab",
   "metadata": {
    "scrolled": true
   },
   "outputs": [
    {
     "data": {
      "text/plain": [
       "2378634432848"
      ]
     },
     "execution_count": 7,
     "metadata": {},
     "output_type": "execute_result"
    }
   ],
   "source": [
    "id(10**10)"
   ]
  },
  {
   "cell_type": "code",
   "execution_count": 8,
   "id": "5d3e81ad",
   "metadata": {},
   "outputs": [
    {
     "data": {
      "text/plain": [
       "2378634433296"
      ]
     },
     "execution_count": 8,
     "metadata": {},
     "output_type": "execute_result"
    }
   ],
   "source": [
    "id(10**10)"
   ]
  },
  {
   "cell_type": "markdown",
   "id": "dc0f96db",
   "metadata": {},
   "source": [
    "but这样不会变"
   ]
  },
  {
   "cell_type": "code",
   "execution_count": 9,
   "id": "9a5eda57",
   "metadata": {},
   "outputs": [],
   "source": [
    "a = 10 ** 10"
   ]
  },
  {
   "cell_type": "code",
   "execution_count": 11,
   "id": "d459f4a0",
   "metadata": {},
   "outputs": [
    {
     "data": {
      "text/plain": [
       "2378634433360"
      ]
     },
     "execution_count": 11,
     "metadata": {},
     "output_type": "execute_result"
    }
   ],
   "source": [
    "id(a)"
   ]
  },
  {
   "cell_type": "code",
   "execution_count": 12,
   "id": "2307531e",
   "metadata": {},
   "outputs": [
    {
     "data": {
      "text/plain": [
       "2378634433360"
      ]
     },
     "execution_count": 12,
     "metadata": {},
     "output_type": "execute_result"
    }
   ],
   "source": [
    "id(a)"
   ]
  },
  {
   "cell_type": "code",
   "execution_count": 13,
   "id": "05493ad4",
   "metadata": {},
   "outputs": [
    {
     "data": {
      "text/plain": [
       "2378634433360"
      ]
     },
     "execution_count": 13,
     "metadata": {},
     "output_type": "execute_result"
    }
   ],
   "source": [
    "id(a)"
   ]
  },
  {
   "cell_type": "code",
   "execution_count": 14,
   "id": "00f8638c",
   "metadata": {},
   "outputs": [
    {
     "data": {
      "text/plain": [
       "True"
      ]
     },
     "execution_count": 14,
     "metadata": {},
     "output_type": "execute_result"
    }
   ],
   "source": [
    "hash(10**5) == hash(1.0 * 10**5)"
   ]
  },
  {
   "cell_type": "code",
   "execution_count": 15,
   "id": "ecc660ee",
   "metadata": {},
   "outputs": [
    {
     "data": {
      "text/plain": [
       "False"
      ]
     },
     "execution_count": 15,
     "metadata": {},
     "output_type": "execute_result"
    }
   ],
   "source": [
    "id(10**5) == id(1.0 * 10**5)"
   ]
  },
  {
   "cell_type": "code",
   "execution_count": 16,
   "id": "ea307829",
   "metadata": {},
   "outputs": [],
   "source": [
    "assert(hash(10**5) == hash(1.0 * 10**5))"
   ]
  },
  {
   "cell_type": "code",
   "execution_count": 17,
   "id": "92f857e2",
   "metadata": {},
   "outputs": [
    {
     "ename": "AssertionError",
     "evalue": "",
     "output_type": "error",
     "traceback": [
      "\u001b[1;31m---------------------------------------------------------------------------\u001b[0m",
      "\u001b[1;31mAssertionError\u001b[0m                            Traceback (most recent call last)",
      "Input \u001b[1;32mIn [17]\u001b[0m, in \u001b[0;36m<cell line: 1>\u001b[1;34m()\u001b[0m\n\u001b[1;32m----> 1\u001b[0m \u001b[38;5;28;01massert\u001b[39;00m(\u001b[38;5;28mid\u001b[39m(\u001b[38;5;241m10\u001b[39m\u001b[38;5;241m*\u001b[39m\u001b[38;5;241m*\u001b[39m\u001b[38;5;241m5\u001b[39m) \u001b[38;5;241m==\u001b[39m \u001b[38;5;28mid\u001b[39m(\u001b[38;5;241m1.0\u001b[39m \u001b[38;5;241m*\u001b[39m \u001b[38;5;241m10\u001b[39m\u001b[38;5;241m*\u001b[39m\u001b[38;5;241m*\u001b[39m\u001b[38;5;241m5\u001b[39m))\n",
      "\u001b[1;31mAssertionError\u001b[0m: "
     ]
    }
   ],
   "source": [
    "assert(id(10**5) == id(1.0 * 10**5))"
   ]
  },
  {
   "cell_type": "code",
   "execution_count": 19,
   "id": "e6bbdabb",
   "metadata": {},
   "outputs": [
    {
     "ename": "AssertionError",
     "evalue": "",
     "output_type": "error",
     "traceback": [
      "\u001b[1;31m---------------------------------------------------------------------------\u001b[0m",
      "\u001b[1;31mAssertionError\u001b[0m                            Traceback (most recent call last)",
      "Input \u001b[1;32mIn [19]\u001b[0m, in \u001b[0;36m<cell line: 1>\u001b[1;34m()\u001b[0m\n\u001b[1;32m----> 1\u001b[0m \u001b[38;5;28;01massert\u001b[39;00m(\u001b[38;5;28mtype\u001b[39m(a) \u001b[38;5;241m==\u001b[39m \u001b[38;5;28mtype\u001b[39m(\u001b[38;5;241m1.0\u001b[39m))\n",
      "\u001b[1;31mAssertionError\u001b[0m: "
     ]
    }
   ],
   "source": [
    "assert(type(a) == type(1.0))"
   ]
  },
  {
   "cell_type": "code",
   "execution_count": 20,
   "id": "f2fffb9f",
   "metadata": {},
   "outputs": [
    {
     "data": {
      "text/plain": [
       "8701940487756589436"
      ]
     },
     "execution_count": 20,
     "metadata": {},
     "output_type": "execute_result"
    }
   ],
   "source": [
    "hash('手撕鸡')"
   ]
  },
  {
   "cell_type": "markdown",
   "id": "3af12f05",
   "metadata": {},
   "source": [
    "# 加密算法:将一个对象转成等长的串\n",
    "## 利用hash保存密码"
   ]
  },
  {
   "cell_type": "code",
   "execution_count": 25,
   "id": "2048ada3",
   "metadata": {},
   "outputs": [
    {
     "name": "stdout",
     "output_type": "stream",
     "text": [
      "请设定您的密码：123456\n"
     ]
    }
   ],
   "source": [
    "passwd = input('请设定您的密码：')\n",
    "passHash = hash(passwd)"
   ]
  },
  {
   "cell_type": "code",
   "execution_count": 26,
   "id": "c439608d",
   "metadata": {},
   "outputs": [
    {
     "data": {
      "text/plain": [
       "1200765461457963073"
      ]
     },
     "execution_count": 26,
     "metadata": {},
     "output_type": "execute_result"
    }
   ],
   "source": [
    "passHash"
   ]
  },
  {
   "cell_type": "code",
   "execution_count": 30,
   "id": "6d4d31e1",
   "metadata": {},
   "outputs": [
    {
     "name": "stdout",
     "output_type": "stream",
     "text": [
      "请验证您的密码：123456\n",
      "又见到您真高兴！\n"
     ]
    }
   ],
   "source": [
    "passwd = input('请验证您的密码：')\n",
    "if passHash == hash(passwd):\n",
    "    print('又见到您真高兴！')\n",
    "else:\n",
    "    print('你是假冒的吧')"
   ]
  },
  {
   "cell_type": "markdown",
   "id": "a6aeba7a",
   "metadata": {},
   "source": [
    "对于一般安全而言，可以设定一个固定种子，方便验证"
   ]
  }
 ],
 "metadata": {
  "kernelspec": {
   "display_name": "Python 3 (ipykernel)",
   "language": "python",
   "name": "python3"
  },
  "language_info": {
   "codemirror_mode": {
    "name": "ipython",
    "version": 3
   },
   "file_extension": ".py",
   "mimetype": "text/x-python",
   "name": "python",
   "nbconvert_exporter": "python",
   "pygments_lexer": "ipython3",
   "version": "3.9.12"
  }
 },
 "nbformat": 4,
 "nbformat_minor": 5
}
