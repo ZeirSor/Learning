{
 "cells": [
  {
   "cell_type": "markdown",
   "id": "55e10da6",
   "metadata": {},
   "source": [
    "# 文字的加密"
   ]
  },
  {
   "cell_type": "markdown",
   "id": "4ecca147",
   "metadata": {},
   "source": [
    "## 凯撒密码（偏移）"
   ]
  },
  {
   "cell_type": "markdown",
   "id": "8320886f",
   "metadata": {},
   "source": [
    "#### 加密(encrypt)"
   ]
  },
  {
   "cell_type": "code",
   "execution_count": 1,
   "id": "9012e511",
   "metadata": {},
   "outputs": [],
   "source": [
    "alphabet_src = 'abcdefghijklmnopqrstuvwxyz'\n",
    "alphabet_tar = 'defghijklmnopqrstuvwxyzabc'"
   ]
  },
  {
   "cell_type": "code",
   "execution_count": 2,
   "id": "78b3a9b3",
   "metadata": {},
   "outputs": [],
   "source": [
    "src_str = 'hello world!'"
   ]
  },
  {
   "cell_type": "code",
   "execution_count": 11,
   "id": "238cb2e3",
   "metadata": {
    "scrolled": true
   },
   "outputs": [
    {
     "name": "stdout",
     "output_type": "stream",
     "text": [
      "k\n",
      "h\n",
      "o\n",
      "o\n",
      "r\n",
      "z\n",
      "r\n",
      "u\n",
      "o\n",
      "g\n",
      "khoor zruog!\n"
     ]
    }
   ],
   "source": [
    "encrypt = ''\n",
    "for single_char in src_str:\n",
    "    # print(single_char)\n",
    "    if single_char in alphabet_src:\n",
    "        index = alphabet_src.index(single_char)\n",
    "        print(alphabet_tar[index])\n",
    "        encrypt += alphabet_tar[index]\n",
    "    else:\n",
    "        # print(single_char)\n",
    "        encrypt += single_char\n",
    "print(res)"
   ]
  },
  {
   "cell_type": "code",
   "execution_count": 15,
   "id": "aa505863",
   "metadata": {},
   "outputs": [
    {
     "name": "stdout",
     "output_type": "stream",
     "text": [
      "Automatic pdb calling has been turned ON\n"
     ]
    }
   ],
   "source": [
    "%pdb"
   ]
  },
  {
   "cell_type": "code",
   "execution_count": 14,
   "id": "aad5e741",
   "metadata": {},
   "outputs": [
    {
     "data": {
      "text/plain": [
       "0"
      ]
     },
     "execution_count": 14,
     "metadata": {},
     "output_type": "execute_result"
    }
   ],
   "source": [
    "alphabet_src.index('a')"
   ]
  },
  {
   "cell_type": "code",
   "execution_count": 9,
   "id": "05147ec9",
   "metadata": {},
   "outputs": [
    {
     "name": "stdout",
     "output_type": "stream",
     "text": [
      "Help on built-in function index:\n",
      "\n",
      "index(...) method of builtins.str instance\n",
      "    S.index(sub[, start[, end]]) -> int\n",
      "    \n",
      "    Return the lowest index in S where substring sub is found,\n",
      "    such that sub is contained within S[start:end].  Optional\n",
      "    arguments start and end are interpreted as in slice notation.\n",
      "    \n",
      "    Raises ValueError when the substring is not found.\n",
      "\n"
     ]
    }
   ],
   "source": [
    "help(src_str.index)"
   ]
  },
  {
   "cell_type": "markdown",
   "id": "a66b86f8",
   "metadata": {},
   "source": [
    "#### 解密(decrypt)"
   ]
  },
  {
   "cell_type": "code",
   "execution_count": 12,
   "id": "5dac5260",
   "metadata": {},
   "outputs": [
    {
     "name": "stdout",
     "output_type": "stream",
     "text": [
      "h\n",
      "e\n",
      "l\n",
      "l\n",
      "o\n",
      "w\n",
      "o\n",
      "r\n",
      "l\n",
      "d\n",
      "hello world!\n"
     ]
    }
   ],
   "source": [
    "decrypt = ''\n",
    "for single_char in res:\n",
    "    # print(single_char)\n",
    "    if single_char in alphabet_tar:\n",
    "        index = alphabet_tar.index(single_char)\n",
    "        print(alphabet_src[index])\n",
    "        decrypt += alphabet_src[index]\n",
    "    else:\n",
    "        # print(single_char)\n",
    "        decrypt += single_char\n",
    "print(decrypt)"
   ]
  },
  {
   "cell_type": "markdown",
   "id": "7f01179f",
   "metadata": {},
   "source": [
    "## 函数封装\n",
    "\n",
    "```python\n",
    "encryptIt()\n",
    "decryptIt()\n",
    "```"
   ]
  },
  {
   "cell_type": "code",
   "execution_count": 36,
   "id": "cca11a22",
   "metadata": {},
   "outputs": [
    {
     "name": "stdout",
     "output_type": "stream",
     "text": [
      "I oryh brx!\n"
     ]
    }
   ],
   "source": [
    "src_str = 'I love you!'\n",
    "def encrypyIt(src_str: str) -> str: \n",
    "    '''\n",
    "    对字符串进行简单加密\n",
    "    输入参数：src_str\n",
    "    返回结果：加密文本\n",
    "    '''\n",
    "    encrypt_str = ''\n",
    "    for single_char in src_str:\n",
    "        # print(single_char)\n",
    "        if single_char in alphabet_src:\n",
    "            index = alphabet_src.index(single_char)\n",
    "            # print(alphabet_tar[index])\n",
    "            encrypt_str += alphabet_tar[index]\n",
    "        else:\n",
    "            # print(single_char)\n",
    "            encrypt_str += single_char\n",
    "    return encrypt_str\n",
    "\n",
    "print(encrypyIt(src_str))"
   ]
  },
  {
   "cell_type": "code",
   "execution_count": 46,
   "id": "9c9ff7a7",
   "metadata": {},
   "outputs": [
    {
     "name": "stdout",
     "output_type": "stream",
     "text": [
      "I rubk eua!\n"
     ]
    }
   ],
   "source": [
    "src_str = encrypyIt(src_str)\n",
    "def decryptIt(src_str: str) -> str: \n",
    "    '''\n",
    "    对字符串进行解密\n",
    "    输入参数：src_str加密文本\n",
    "    返回结果：解密文本\n",
    "    '''\n",
    "    decrypt = ''\n",
    "    for single_char in src_str:\n",
    "        # print(single_char)\n",
    "        if single_char in alphabet_tar:\n",
    "            index = alphabet_tar.index(single_char)\n",
    "            # print(alphabet_src[index])\n",
    "            decrypt += alphabet_src[index]\n",
    "        else:\n",
    "            # print(single_char)\n",
    "            decrypt += single_char\n",
    "    return decrypt\n",
    " \n",
    "print(decryptIt(src_str))"
   ]
  },
  {
   "cell_type": "markdown",
   "id": "0c40037c",
   "metadata": {},
   "source": [
    "如果有同名，现在函数体内部找\n",
    "\n",
    "找不到才去找外部变量"
   ]
  },
  {
   "cell_type": "code",
   "execution_count": 25,
   "id": "236256f7",
   "metadata": {},
   "outputs": [
    {
     "name": "stdout",
     "output_type": "stream",
     "text": [
      "2\n",
      "1\n",
      "1\n",
      "1\n"
     ]
    }
   ],
   "source": [
    "a = 1\n",
    "\n",
    "def myTest():\n",
    "    a = 2\n",
    "    print(a)\n",
    "\n",
    "myTest()\n",
    "print(a)\n",
    "\n",
    "def myTest2():\n",
    "    # a = 2\n",
    "    print(a)\n",
    "    \n",
    "myTest2()\n",
    "print(a)"
   ]
  },
  {
   "cell_type": "markdown",
   "id": "4cebfe24",
   "metadata": {},
   "source": [
    "或者用关键字`global`声明"
   ]
  },
  {
   "cell_type": "code",
   "execution_count": 26,
   "id": "dadf4c36",
   "metadata": {},
   "outputs": [
    {
     "name": "stdout",
     "output_type": "stream",
     "text": [
      "2\n",
      "2\n"
     ]
    }
   ],
   "source": [
    "a = 1\n",
    "\n",
    "def myTest():\n",
    "    global a\n",
    "    a = 2\n",
    "    print(a)\n",
    "\n",
    "myTest()\n",
    "print(a)"
   ]
  },
  {
   "cell_type": "code",
   "execution_count": 27,
   "id": "1a403911",
   "metadata": {},
   "outputs": [],
   "source": [
    "assert('abcdefghijklmnopqrstuvwxyz' == decryptIt(encrypyIt('abcdefghijklmnopqrstuvwxyz')))"
   ]
  },
  {
   "cell_type": "code",
   "execution_count": 31,
   "id": "27dc1374",
   "metadata": {},
   "outputs": [],
   "source": [
    "# def encrypyIt(src_str: str) -> str: \n",
    "# 表示输入的是字符串，输出字符串"
   ]
  },
  {
   "cell_type": "code",
   "execution_count": 34,
   "id": "52e7d3b5",
   "metadata": {},
   "outputs": [
    {
     "name": "stdout",
     "output_type": "stream",
     "text": [
      "Help on function encrypyIt in module __main__:\n",
      "\n",
      "encrypyIt(src_str: str) -> str\n",
      "\n"
     ]
    }
   ],
   "source": [
    "help(encrypyIt)"
   ]
  },
  {
   "cell_type": "code",
   "execution_count": 35,
   "id": "98325cc6",
   "metadata": {},
   "outputs": [
    {
     "name": "stdout",
     "output_type": "stream",
     "text": [
      "Help on built-in function print in module builtins:\n",
      "\n",
      "print(...)\n",
      "    print(value, ..., sep=' ', end='\\n', file=sys.stdout, flush=False)\n",
      "    \n",
      "    Prints the values to a stream, or to sys.stdout by default.\n",
      "    Optional keyword arguments:\n",
      "    file:  a file-like object (stream); defaults to the current sys.stdout.\n",
      "    sep:   string inserted between values, default a space.\n",
      "    end:   string appended after the last value, default a newline.\n",
      "    flush: whether to forcibly flush the stream.\n",
      "\n"
     ]
    }
   ],
   "source": [
    "help(print)"
   ]
  },
  {
   "cell_type": "markdown",
   "id": "f2f266d2",
   "metadata": {},
   "source": [
    "### 添加函数说明，用三引号"
   ]
  },
  {
   "cell_type": "code",
   "execution_count": 38,
   "id": "01d27989",
   "metadata": {},
   "outputs": [
    {
     "name": "stdout",
     "output_type": "stream",
     "text": [
      "Help on function encrypyIt in module __main__:\n",
      "\n",
      "encrypyIt(src_str: str) -> str\n",
      "    对字符串进行简单加密\n",
      "    输入参数：src_str\n",
      "    返回结果：加密文本\n",
      "\n"
     ]
    }
   ],
   "source": [
    "help(encrypyIt)"
   ]
  },
  {
   "cell_type": "code",
   "execution_count": 47,
   "id": "dabbbeab",
   "metadata": {
    "scrolled": false
   },
   "outputs": [
    {
     "name": "stdout",
     "output_type": "stream",
     "text": [
      "Help on function decryptIt in module __main__:\n",
      "\n",
      "decryptIt(src_str: str) -> str\n",
      "    对字符串进行解密\n",
      "    输入参数：src_str加密文本\n",
      "    返回结果：解密文本\n",
      "\n"
     ]
    }
   ],
   "source": [
    "help(decryptIt)"
   ]
  },
  {
   "cell_type": "markdown",
   "id": "48b33d23",
   "metadata": {},
   "source": [
    "## 加密2"
   ]
  },
  {
   "cell_type": "code",
   "execution_count": 51,
   "id": "a43567d1",
   "metadata": {},
   "outputs": [
    {
     "name": "stdout",
     "output_type": "stream",
     "text": [
      "I oryh brx!\n"
     ]
    }
   ],
   "source": [
    "src_str = 'I love you!'\n",
    "def encrypyIt(src_str: str) -> str: \n",
    "    '''\n",
    "    对字符串进行简单加密\n",
    "    输入参数：src_str\n",
    "    返回结果：加密文本\n",
    "    '''\n",
    "    encrypt_str = ''\n",
    "    for single_char in src_str:\n",
    "        # print(single_char)\n",
    "        if single_char in alphabet_src:\n",
    "            old_index = alphabet_src.index(single_char)\n",
    "            new_index = (old_index + 3) % 26\n",
    "            # print(alphabet_tar[index])\n",
    "            encrypt_str += alphabet_src[new_index]\n",
    "        else:\n",
    "            # print(single_char)\n",
    "            encrypt_str += single_char\n",
    "    return encrypt_str\n",
    "\n",
    "print(encrypyIt(src_str))"
   ]
  },
  {
   "cell_type": "markdown",
   "id": "b34b0b85",
   "metadata": {},
   "source": [
    "## 解密2"
   ]
  },
  {
   "cell_type": "code",
   "execution_count": 52,
   "id": "f14aa30d",
   "metadata": {},
   "outputs": [
    {
     "name": "stdout",
     "output_type": "stream",
     "text": [
      "I love you!\n"
     ]
    }
   ],
   "source": [
    "src_str = encrypyIt(src_str)\n",
    "def decryptIt(src_str: str) -> str: \n",
    "    '''\n",
    "    对字符串进行解密\n",
    "    输入参数：src_str加密文本\n",
    "    返回结果：解密文本\n",
    "    '''\n",
    "    decrypt = ''\n",
    "    for single_char in src_str:\n",
    "        # print(single_char)\n",
    "        if single_char in alphabet_tar:\n",
    "            old_index = alphabet_src.index(single_char)\n",
    "            new_index = (old_index - 3) % 26\n",
    "            # print(alphabet_src[index])\n",
    "            decrypt += alphabet_src[new_index]\n",
    "        else:\n",
    "            # print(single_char)\n",
    "            decrypt += single_char\n",
    "    return decrypt\n",
    " \n",
    "print(decryptIt(src_str))"
   ]
  },
  {
   "cell_type": "code",
   "execution_count": 54,
   "id": "25b3f76f",
   "metadata": {},
   "outputs": [
    {
     "data": {
      "text/plain": [
       "22"
      ]
     },
     "execution_count": 54,
     "metadata": {},
     "output_type": "execute_result"
    }
   ],
   "source": [
    "-4 % 26"
   ]
  },
  {
   "cell_type": "code",
   "execution_count": 55,
   "id": "867070c7",
   "metadata": {},
   "outputs": [
    {
     "data": {
      "text/plain": [
       "4"
      ]
     },
     "execution_count": 55,
     "metadata": {},
     "output_type": "execute_result"
    }
   ],
   "source": [
    "4 % 26"
   ]
  },
  {
   "cell_type": "markdown",
   "id": "0c81224f",
   "metadata": {},
   "source": [
    "## 解密加密统一"
   ]
  },
  {
   "cell_type": "code",
   "execution_count": 17,
   "id": "d48f4c4d",
   "metadata": {},
   "outputs": [],
   "source": [
    "def cryptIt(src_str: str, if_crypyIt: bool = False) -> str: \n",
    "    '''\n",
    "    对字符串进行简单加密/解密\n",
    "    输入参数：src_str\n",
    "              if_crypyIt True表示加密 False表示解密\n",
    "    返回结果：加密/解密文本\n",
    "    '''\n",
    "    global alphabet_src\n",
    "    res = ''\n",
    "    for single_char in src_str:\n",
    "        # print(single_char)\n",
    "        if single_char in alphabet_src:\n",
    "            old_index = alphabet_src.index(single_char)\n",
    "            if if_crypyIt == True:\n",
    "                new_index = (old_index + 3) % 26\n",
    "            else:\n",
    "                new_index = (old_index - 3) % 26\n",
    "            # print(alphabet_tar[index])\n",
    "            res += alphabet_src[new_index]\n",
    "        else:\n",
    "            # print(single_char)\n",
    "            res += single_char\n",
    "    return res"
   ]
  },
  {
   "cell_type": "code",
   "execution_count": 18,
   "id": "69dd5d1c",
   "metadata": {},
   "outputs": [
    {
     "name": "stdout",
     "output_type": "stream",
     "text": [
      "I oryh brx!\n"
     ]
    }
   ],
   "source": [
    "print(cryptIt('I love you!', True))"
   ]
  },
  {
   "cell_type": "code",
   "execution_count": 19,
   "id": "aabd7785",
   "metadata": {},
   "outputs": [
    {
     "name": "stdout",
     "output_type": "stream",
     "text": [
      "I love you!\n"
     ]
    }
   ],
   "source": [
    "print(cryptIt('I oryh brx!', False))"
   ]
  },
  {
   "cell_type": "code",
   "execution_count": 20,
   "id": "ac9accf0",
   "metadata": {},
   "outputs": [
    {
     "name": "stdout",
     "output_type": "stream",
     "text": [
      "Help on function cryptIt in module __main__:\n",
      "\n",
      "cryptIt(src_str: str, if_crypyIt: bool = False) -> str\n",
      "    对字符串进行简单加密/解密\n",
      "    输入参数：src_str\n",
      "              if_crypyIt True表示加密 False表示解密\n",
      "    返回结果：加密/解密文本\n",
      "\n"
     ]
    }
   ],
   "source": [
    "help(cryptIt)"
   ]
  },
  {
   "cell_type": "code",
   "execution_count": null,
   "id": "2519ee8b",
   "metadata": {},
   "outputs": [],
   "source": []
  }
 ],
 "metadata": {
  "kernelspec": {
   "display_name": "Python 3 (ipykernel)",
   "language": "python",
   "name": "python3"
  },
  "language_info": {
   "codemirror_mode": {
    "name": "ipython",
    "version": 3
   },
   "file_extension": ".py",
   "mimetype": "text/x-python",
   "name": "python",
   "nbconvert_exporter": "python",
   "pygments_lexer": "ipython3",
   "version": "3.9.12"
  }
 },
 "nbformat": 4,
 "nbformat_minor": 5
}
