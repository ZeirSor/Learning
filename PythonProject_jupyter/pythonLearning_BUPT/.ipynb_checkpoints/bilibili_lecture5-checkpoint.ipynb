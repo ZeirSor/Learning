{
 "cells": [
  {
   "cell_type": "code",
   "execution_count": 1,
   "id": "07d5f163",
   "metadata": {},
   "outputs": [],
   "source": [
    "a = [1, 2, 3]"
   ]
  },
  {
   "cell_type": "code",
   "execution_count": 2,
   "id": "1b295999",
   "metadata": {},
   "outputs": [],
   "source": [
    "b = []\n",
    "for e in a:\n",
    "    b.append(e + 1)\n",
    "a = b"
   ]
  },
  {
   "cell_type": "code",
   "execution_count": 3,
   "id": "bcc913e3",
   "metadata": {},
   "outputs": [
    {
     "data": {
      "text/plain": [
       "[2, 3, 4]"
      ]
     },
     "execution_count": 3,
     "metadata": {},
     "output_type": "execute_result"
    }
   ],
   "source": [
    "a"
   ]
  },
  {
   "cell_type": "code",
   "execution_count": 4,
   "id": "3ea15a93",
   "metadata": {},
   "outputs": [],
   "source": [
    "a = [e ** 2 for e in a]"
   ]
  },
  {
   "cell_type": "code",
   "execution_count": 5,
   "id": "43b43475",
   "metadata": {},
   "outputs": [
    {
     "data": {
      "text/plain": [
       "[4, 9, 16]"
      ]
     },
     "execution_count": 5,
     "metadata": {},
     "output_type": "execute_result"
    }
   ],
   "source": [
    "a"
   ]
  },
  {
   "cell_type": "code",
   "execution_count": 6,
   "id": "6540ae2a",
   "metadata": {},
   "outputs": [],
   "source": [
    "a = [1,2,[3,4]]"
   ]
  },
  {
   "cell_type": "code",
   "execution_count": 7,
   "id": "4e5de667",
   "metadata": {},
   "outputs": [
    {
     "data": {
      "text/plain": [
       "[3, 4]"
      ]
     },
     "execution_count": 7,
     "metadata": {},
     "output_type": "execute_result"
    }
   ],
   "source": [
    "a[2]"
   ]
  },
  {
   "cell_type": "code",
   "execution_count": 8,
   "id": "6be25f76",
   "metadata": {},
   "outputs": [
    {
     "data": {
      "text/plain": [
       "3"
      ]
     },
     "execution_count": 8,
     "metadata": {},
     "output_type": "execute_result"
    }
   ],
   "source": [
    "a[2][0]"
   ]
  },
  {
   "cell_type": "code",
   "execution_count": 9,
   "id": "cb0867ff",
   "metadata": {},
   "outputs": [],
   "source": [
    "a = [[1,'b'],[5,'a'],[3,'k']]"
   ]
  },
  {
   "cell_type": "code",
   "execution_count": 10,
   "id": "e28b475b",
   "metadata": {},
   "outputs": [
    {
     "data": {
      "text/plain": [
       "[[1, 'b'], [5, 'a'], [3, 'k']]"
      ]
     },
     "execution_count": 10,
     "metadata": {},
     "output_type": "execute_result"
    }
   ],
   "source": [
    "a"
   ]
  },
  {
   "cell_type": "code",
   "execution_count": 11,
   "id": "db8aaea0",
   "metadata": {},
   "outputs": [],
   "source": [
    "a.sort(key = lambda x:x[0])"
   ]
  },
  {
   "cell_type": "code",
   "execution_count": 12,
   "id": "92c6cb5e",
   "metadata": {},
   "outputs": [
    {
     "data": {
      "text/plain": [
       "[[1, 'b'], [3, 'k'], [5, 'a']]"
      ]
     },
     "execution_count": 12,
     "metadata": {},
     "output_type": "execute_result"
    }
   ],
   "source": [
    "a"
   ]
  },
  {
   "cell_type": "code",
   "execution_count": 13,
   "id": "4b765f82",
   "metadata": {},
   "outputs": [],
   "source": [
    "a.sort(key = lambda x:x[1])"
   ]
  },
  {
   "cell_type": "code",
   "execution_count": 14,
   "id": "e1227ecf",
   "metadata": {},
   "outputs": [
    {
     "data": {
      "text/plain": [
       "[[5, 'a'], [1, 'b'], [3, 'k']]"
      ]
     },
     "execution_count": 14,
     "metadata": {},
     "output_type": "execute_result"
    }
   ],
   "source": [
    "a"
   ]
  },
  {
   "cell_type": "code",
   "execution_count": 15,
   "id": "f4b03ce6",
   "metadata": {},
   "outputs": [
    {
     "data": {
      "text/plain": [
       "[[1, 'b'], [3, 'k'], [5, 'a']]"
      ]
     },
     "execution_count": 15,
     "metadata": {},
     "output_type": "execute_result"
    }
   ],
   "source": [
    "sorted(a)"
   ]
  },
  {
   "cell_type": "code",
   "execution_count": 16,
   "id": "f4595d4f",
   "metadata": {},
   "outputs": [],
   "source": [
    "a.insert(1,'you')"
   ]
  },
  {
   "cell_type": "code",
   "execution_count": 17,
   "id": "f967b88e",
   "metadata": {},
   "outputs": [
    {
     "data": {
      "text/plain": [
       "[[5, 'a'], 'you', [1, 'b'], [3, 'k']]"
      ]
     },
     "execution_count": 17,
     "metadata": {},
     "output_type": "execute_result"
    }
   ],
   "source": [
    "a"
   ]
  },
  {
   "cell_type": "code",
   "execution_count": 18,
   "id": "0c829be0",
   "metadata": {},
   "outputs": [],
   "source": [
    "import math"
   ]
  },
  {
   "cell_type": "code",
   "execution_count": 19,
   "id": "fe52a7f1",
   "metadata": {},
   "outputs": [
    {
     "data": {
      "text/plain": [
       "1.7320508075688772"
      ]
     },
     "execution_count": 19,
     "metadata": {},
     "output_type": "execute_result"
    }
   ],
   "source": [
    "math.sqrt(3)"
   ]
  },
  {
   "cell_type": "code",
   "execution_count": 20,
   "id": "923a6841",
   "metadata": {},
   "outputs": [
    {
     "data": {
      "text/plain": [
       "1j"
      ]
     },
     "execution_count": 20,
     "metadata": {},
     "output_type": "execute_result"
    }
   ],
   "source": [
    "import cmath\n",
    "cmath.sqrt(-1)"
   ]
  },
  {
   "cell_type": "code",
   "execution_count": 21,
   "id": "1e23da29",
   "metadata": {},
   "outputs": [],
   "source": [
    "x = 0\n",
    "res = \"y\" if x > 0 else \"n\""
   ]
  },
  {
   "cell_type": "code",
   "execution_count": 22,
   "id": "752d0b03",
   "metadata": {},
   "outputs": [
    {
     "data": {
      "text/plain": [
       "'n'"
      ]
     },
     "execution_count": 22,
     "metadata": {},
     "output_type": "execute_result"
    }
   ],
   "source": [
    "res"
   ]
  },
  {
   "cell_type": "code",
   "execution_count": 23,
   "id": "2fa037e0",
   "metadata": {},
   "outputs": [
    {
     "data": {
      "text/plain": [
       "True"
      ]
     },
     "execution_count": 23,
     "metadata": {},
     "output_type": "execute_result"
    }
   ],
   "source": [
    "import calendar\n",
    "calendar.isleap(2020)"
   ]
  },
  {
   "cell_type": "code",
   "execution_count": 24,
   "id": "6a1ecfdf",
   "metadata": {},
   "outputs": [],
   "source": [
    "sum = 0;"
   ]
  },
  {
   "cell_type": "code",
   "execution_count": 25,
   "id": "94fadfa5",
   "metadata": {},
   "outputs": [
    {
     "data": {
      "text/plain": [
       "0"
      ]
     },
     "execution_count": 25,
     "metadata": {},
     "output_type": "execute_result"
    }
   ],
   "source": [
    "sum"
   ]
  },
  {
   "cell_type": "code",
   "execution_count": 26,
   "id": "d16f8630",
   "metadata": {},
   "outputs": [],
   "source": [
    "sum = 0;a = 1;"
   ]
  },
  {
   "cell_type": "code",
   "execution_count": 27,
   "id": "113334da",
   "metadata": {},
   "outputs": [
    {
     "data": {
      "text/plain": [
       "1"
      ]
     },
     "execution_count": 27,
     "metadata": {},
     "output_type": "execute_result"
    }
   ],
   "source": [
    "a"
   ]
  },
  {
   "cell_type": "code",
   "execution_count": 28,
   "id": "d55de479",
   "metadata": {},
   "outputs": [
    {
     "name": "stdout",
     "output_type": "stream",
     "text": [
      "1 1\n",
      "2 3\n",
      "3 6\n"
     ]
    }
   ],
   "source": [
    "sum = 0\n",
    "for i in (1, 2, 3):\n",
    "    sum += i\n",
    "    print(i, sum)"
   ]
  },
  {
   "cell_type": "code",
   "execution_count": 29,
   "id": "55f72b52",
   "metadata": {},
   "outputs": [],
   "source": [
    "myList = list(range(1, 10))"
   ]
  },
  {
   "cell_type": "code",
   "execution_count": 30,
   "id": "b9587b2e",
   "metadata": {},
   "outputs": [
    {
     "data": {
      "text/plain": [
       "[1, 2, 3, 4, 5, 6, 7, 8, 9]"
      ]
     },
     "execution_count": 30,
     "metadata": {},
     "output_type": "execute_result"
    }
   ],
   "source": [
    "myList"
   ]
  },
  {
   "cell_type": "code",
   "execution_count": 31,
   "id": "404e57fa",
   "metadata": {},
   "outputs": [
    {
     "name": "stdout",
     "output_type": "stream",
     "text": [
      "2\n",
      "4\n",
      "5\n",
      "6\n"
     ]
    }
   ],
   "source": [
    "for j in [1, 3, 4, 5]:\n",
    "    print(myList[j])"
   ]
  },
  {
   "cell_type": "code",
   "execution_count": 32,
   "id": "6ca5a108",
   "metadata": {},
   "outputs": [
    {
     "data": {
      "text/plain": [
       "['d', 'a', 't', 'a']"
      ]
     },
     "execution_count": 32,
     "metadata": {},
     "output_type": "execute_result"
    }
   ],
   "source": [
    "myList = list(\"data\")\n",
    "myList"
   ]
  },
  {
   "cell_type": "code",
   "execution_count": 34,
   "id": "1344137a",
   "metadata": {},
   "outputs": [
    {
     "data": {
      "text/plain": [
       "'a'"
      ]
     },
     "execution_count": 34,
     "metadata": {},
     "output_type": "execute_result"
    }
   ],
   "source": [
    "myList[-1]"
   ]
  },
  {
   "cell_type": "code",
   "execution_count": 39,
   "id": "5345a74b",
   "metadata": {},
   "outputs": [],
   "source": [
    "myList = list(\"7uiw3sertfgy\")"
   ]
  },
  {
   "cell_type": "code",
   "execution_count": 40,
   "id": "268b56d1",
   "metadata": {},
   "outputs": [
    {
     "data": {
      "text/plain": [
       "['7', 'u', 'i', 'w', '3', 's', 'e', 'r', 't', 'f', 'g', 'y']"
      ]
     },
     "execution_count": 40,
     "metadata": {},
     "output_type": "execute_result"
    }
   ],
   "source": [
    "myList"
   ]
  },
  {
   "cell_type": "code",
   "execution_count": 41,
   "id": "afb2a24f",
   "metadata": {},
   "outputs": [
    {
     "data": {
      "text/plain": [
       "['u', 'i']"
      ]
     },
     "execution_count": 41,
     "metadata": {},
     "output_type": "execute_result"
    }
   ],
   "source": [
    "myList[1:3]"
   ]
  },
  {
   "cell_type": "code",
   "execution_count": 42,
   "id": "22f95fa0",
   "metadata": {},
   "outputs": [
    {
     "data": {
      "text/plain": [
       "['7', 'u', 'i', 'w', '3', 's', 'e', 'r', 't', 'f', 'g', 'y']"
      ]
     },
     "execution_count": 42,
     "metadata": {},
     "output_type": "execute_result"
    }
   ],
   "source": [
    "myList"
   ]
  },
  {
   "cell_type": "code",
   "execution_count": 43,
   "id": "838519ad",
   "metadata": {},
   "outputs": [
    {
     "data": {
      "text/plain": [
       "['7', 'u', 'i', 'w', '3', 's', 'e', 'r', 't', 'f', 'g', 'y']"
      ]
     },
     "execution_count": 43,
     "metadata": {},
     "output_type": "execute_result"
    }
   ],
   "source": [
    "myList[:]"
   ]
  },
  {
   "cell_type": "code",
   "execution_count": 44,
   "id": "8547ac69",
   "metadata": {},
   "outputs": [
    {
     "data": {
      "text/plain": [
       "['s', 'e', 'r', 't', 'f', 'g', 'y']"
      ]
     },
     "execution_count": 44,
     "metadata": {},
     "output_type": "execute_result"
    }
   ],
   "source": [
    "myList[5:]"
   ]
  },
  {
   "cell_type": "code",
   "execution_count": 45,
   "id": "7b677885",
   "metadata": {},
   "outputs": [
    {
     "data": {
      "text/plain": [
       "['7', 'u', 'i', 'w', '3', 's', 'e', 'r', 't', 'f', 'g']"
      ]
     },
     "execution_count": 45,
     "metadata": {},
     "output_type": "execute_result"
    }
   ],
   "source": [
    "myList[:-1]"
   ]
  },
  {
   "cell_type": "code",
   "execution_count": 46,
   "id": "95704342",
   "metadata": {},
   "outputs": [
    {
     "data": {
      "text/plain": [
       "['y', 'g', 'f', 't', 'r', 'e', 's', '3', 'w', 'i', 'u', '7']"
      ]
     },
     "execution_count": 46,
     "metadata": {},
     "output_type": "execute_result"
    }
   ],
   "source": [
    "myList[::-1]"
   ]
  },
  {
   "cell_type": "code",
   "execution_count": 48,
   "id": "de3c196c",
   "metadata": {},
   "outputs": [
    {
     "data": {
      "text/plain": [
       "['y', 'g', 'f', 't', 'r', 'e', 's', '3', 'w', 'i', 'u', '7']"
      ]
     },
     "execution_count": 48,
     "metadata": {},
     "output_type": "execute_result"
    }
   ],
   "source": [
    "list(reversed(myList))"
   ]
  },
  {
   "cell_type": "code",
   "execution_count": 49,
   "id": "ee41698b",
   "metadata": {},
   "outputs": [],
   "source": [
    "myList.reverse()"
   ]
  },
  {
   "cell_type": "code",
   "execution_count": 50,
   "id": "068cd6e8",
   "metadata": {},
   "outputs": [
    {
     "data": {
      "text/plain": [
       "['y', 'g', 'f', 't', 'r', 'e', 's', '3', 'w', 'i', 'u', '7']"
      ]
     },
     "execution_count": 50,
     "metadata": {},
     "output_type": "execute_result"
    }
   ],
   "source": [
    "myList"
   ]
  },
  {
   "cell_type": "code",
   "execution_count": 51,
   "id": "31e575cd",
   "metadata": {},
   "outputs": [],
   "source": [
    "myList2 = list(\"fasdfsdf\")"
   ]
  },
  {
   "cell_type": "code",
   "execution_count": 52,
   "id": "d3b1c254",
   "metadata": {},
   "outputs": [
    {
     "data": {
      "text/plain": [
       "['f', 'a', 's', 'd', 'f', 's', 'd', 'f']"
      ]
     },
     "execution_count": 52,
     "metadata": {},
     "output_type": "execute_result"
    }
   ],
   "source": [
    "myList2"
   ]
  },
  {
   "cell_type": "code",
   "execution_count": 71,
   "id": "39eff70b",
   "metadata": {},
   "outputs": [],
   "source": [
    "myList.append(myList2)"
   ]
  },
  {
   "cell_type": "code",
   "execution_count": 72,
   "id": "162d3a91",
   "metadata": {},
   "outputs": [
    {
     "data": {
      "text/plain": [
       "['7',\n",
       " 'u',\n",
       " 'i',\n",
       " 'w',\n",
       " '3',\n",
       " 's',\n",
       " 'e',\n",
       " 'r',\n",
       " 't',\n",
       " 'f',\n",
       " 'g',\n",
       " 'y',\n",
       " 'f',\n",
       " 'a',\n",
       " 's',\n",
       " 'd',\n",
       " 'f',\n",
       " 's',\n",
       " 'd',\n",
       " 'f',\n",
       " ['f', 'a', 's', 'd', 'f', 's', 'd', 'f']]"
      ]
     },
     "execution_count": 72,
     "metadata": {},
     "output_type": "execute_result"
    }
   ],
   "source": [
    "myList"
   ]
  },
  {
   "cell_type": "code",
   "execution_count": 68,
   "id": "81170fb7",
   "metadata": {},
   "outputs": [
    {
     "data": {
      "text/plain": [
       "['7', 'u', 'i', 'w', '3', 's', 'e', 'r', 't', 'f', 'g', 'y']"
      ]
     },
     "execution_count": 68,
     "metadata": {},
     "output_type": "execute_result"
    }
   ],
   "source": [
    "myList = list(\"7uiw3sertfgy\")\n",
    "myList"
   ]
  },
  {
   "cell_type": "code",
   "execution_count": 69,
   "id": "440bb6b4",
   "metadata": {},
   "outputs": [],
   "source": [
    "myList.extend(myList2)"
   ]
  },
  {
   "cell_type": "code",
   "execution_count": 70,
   "id": "b946e593",
   "metadata": {},
   "outputs": [
    {
     "data": {
      "text/plain": [
       "['7',\n",
       " 'u',\n",
       " 'i',\n",
       " 'w',\n",
       " '3',\n",
       " 's',\n",
       " 'e',\n",
       " 'r',\n",
       " 't',\n",
       " 'f',\n",
       " 'g',\n",
       " 'y',\n",
       " 'f',\n",
       " 'a',\n",
       " 's',\n",
       " 'd',\n",
       " 'f',\n",
       " 's',\n",
       " 'd',\n",
       " 'f']"
      ]
     },
     "execution_count": 70,
     "metadata": {},
     "output_type": "execute_result"
    }
   ],
   "source": [
    "myList"
   ]
  },
  {
   "cell_type": "code",
   "execution_count": 59,
   "id": "e3557448",
   "metadata": {},
   "outputs": [
    {
     "data": {
      "text/plain": [
       "['7f', 'ua', 'is', 'wd', '3f', 'ss', 'ed', 'rf']"
      ]
     },
     "execution_count": 59,
     "metadata": {},
     "output_type": "execute_result"
    }
   ],
   "source": [
    "[i + j for i, j in zip(myList, myList2)]"
   ]
  },
  {
   "cell_type": "code",
   "execution_count": 60,
   "id": "e1ca95d7",
   "metadata": {},
   "outputs": [],
   "source": [
    "myList.insert(1, 8)"
   ]
  },
  {
   "cell_type": "code",
   "execution_count": 61,
   "id": "1575c6a3",
   "metadata": {},
   "outputs": [
    {
     "data": {
      "text/plain": [
       "['7',\n",
       " 8,\n",
       " 'u',\n",
       " 'i',\n",
       " 'w',\n",
       " '3',\n",
       " 's',\n",
       " 'e',\n",
       " 'r',\n",
       " 't',\n",
       " 'f',\n",
       " 'g',\n",
       " 'y',\n",
       " 'f',\n",
       " 'a',\n",
       " 's',\n",
       " 'd',\n",
       " 'f',\n",
       " 's',\n",
       " 'd',\n",
       " 'f']"
      ]
     },
     "execution_count": 61,
     "metadata": {},
     "output_type": "execute_result"
    }
   ],
   "source": [
    "myList"
   ]
  },
  {
   "cell_type": "code",
   "execution_count": 62,
   "id": "01e2d633",
   "metadata": {},
   "outputs": [
    {
     "data": {
      "text/plain": [
       "[10, 11, 10, 24, 45, 56]"
      ]
     },
     "execution_count": 62,
     "metadata": {},
     "output_type": "execute_result"
    }
   ],
   "source": [
    "myl = [10, 11, 10, 24, 45, 56]\n",
    "myl"
   ]
  },
  {
   "cell_type": "code",
   "execution_count": 65,
   "id": "2b35fb6e",
   "metadata": {},
   "outputs": [
    {
     "data": {
      "text/plain": [
       "[11, 24, 45, 56]"
      ]
     },
     "execution_count": 65,
     "metadata": {},
     "output_type": "execute_result"
    }
   ],
   "source": [
    "res = [x for x in myl if x!= 10]\n",
    "res"
   ]
  },
  {
   "cell_type": "code",
   "execution_count": 66,
   "id": "440eb7bc",
   "metadata": {},
   "outputs": [
    {
     "data": {
      "text/plain": [
       "[10, 11, 45, 24, 56]"
      ]
     },
     "execution_count": 66,
     "metadata": {},
     "output_type": "execute_result"
    }
   ],
   "source": [
    "list(set(myl))"
   ]
  },
  {
   "cell_type": "code",
   "execution_count": 67,
   "id": "d538937e",
   "metadata": {},
   "outputs": [
    {
     "name": "stdout",
     "output_type": "stream",
     "text": [
      "Help on class filter in module builtins:\n",
      "\n",
      "class filter(object)\n",
      " |  filter(function or None, iterable) --> filter object\n",
      " |  \n",
      " |  Return an iterator yielding those items of iterable for which function(item)\n",
      " |  is true. If function is None, return the items that are true.\n",
      " |  \n",
      " |  Methods defined here:\n",
      " |  \n",
      " |  __getattribute__(self, name, /)\n",
      " |      Return getattr(self, name).\n",
      " |  \n",
      " |  __iter__(self, /)\n",
      " |      Implement iter(self).\n",
      " |  \n",
      " |  __next__(self, /)\n",
      " |      Implement next(self).\n",
      " |  \n",
      " |  __reduce__(...)\n",
      " |      Return state information for pickling.\n",
      " |  \n",
      " |  ----------------------------------------------------------------------\n",
      " |  Static methods defined here:\n",
      " |  \n",
      " |  __new__(*args, **kwargs) from builtins.type\n",
      " |      Create and return a new object.  See help(type) for accurate signature.\n",
      "\n"
     ]
    }
   ],
   "source": [
    "help(filter)"
   ]
  },
  {
   "cell_type": "code",
   "execution_count": 73,
   "id": "b84d1570",
   "metadata": {},
   "outputs": [
    {
     "data": {
      "text/plain": [
       "[10, 11, 10, 24, 45, 56]"
      ]
     },
     "execution_count": 73,
     "metadata": {},
     "output_type": "execute_result"
    }
   ],
   "source": [
    "myl"
   ]
  },
  {
   "cell_type": "code",
   "execution_count": 74,
   "id": "26bbf897",
   "metadata": {},
   "outputs": [
    {
     "data": {
      "text/plain": [
       "156"
      ]
     },
     "execution_count": 74,
     "metadata": {},
     "output_type": "execute_result"
    }
   ],
   "source": [
    "sum = 0\n",
    "for x in myl:\n",
    "    sum += x\n",
    "sum"
   ]
  },
  {
   "cell_type": "code",
   "execution_count": 78,
   "id": "bc0386e7",
   "metadata": {},
   "outputs": [],
   "source": [
    "sum = 0\n",
    "i = 0\n",
    "for value in myl:\n",
    "    i += 1\n",
    "    sum = value + i"
   ]
  },
  {
   "cell_type": "code",
   "execution_count": 79,
   "id": "332c5d2f",
   "metadata": {},
   "outputs": [
    {
     "data": {
      "text/plain": [
       "62"
      ]
     },
     "execution_count": 79,
     "metadata": {},
     "output_type": "execute_result"
    }
   ],
   "source": [
    "sum"
   ]
  },
  {
   "cell_type": "code",
   "execution_count": 77,
   "id": "184a1be6",
   "metadata": {},
   "outputs": [
    {
     "data": {
      "text/plain": [
       "[(0, 10), (1, 11), (2, 10), (3, 24), (4, 45), (5, 56)]"
      ]
     },
     "execution_count": 77,
     "metadata": {},
     "output_type": "execute_result"
    }
   ],
   "source": [
    "list(enumerate(myl))"
   ]
  },
  {
   "cell_type": "code",
   "execution_count": 81,
   "id": "201d2a8d",
   "metadata": {},
   "outputs": [
    {
     "data": {
      "text/plain": [
       "(10, 11, 10, 24, 45, 56)"
      ]
     },
     "execution_count": 81,
     "metadata": {},
     "output_type": "execute_result"
    }
   ],
   "source": [
    "myt = tuple(myl)\n",
    "myt"
   ]
  },
  {
   "cell_type": "code",
   "execution_count": 84,
   "id": "f435acba",
   "metadata": {},
   "outputs": [],
   "source": [
    "myt = 1,23,4,4,56,45,65,4,34,\"sd\""
   ]
  },
  {
   "cell_type": "code",
   "execution_count": 85,
   "id": "02a2f623",
   "metadata": {},
   "outputs": [
    {
     "data": {
      "text/plain": [
       "(1, 23, 4, 4, 56, 45, 65, 4, 34, 'sd')"
      ]
     },
     "execution_count": 85,
     "metadata": {},
     "output_type": "execute_result"
    }
   ],
   "source": [
    "myt"
   ]
  },
  {
   "cell_type": "code",
   "execution_count": 86,
   "id": "56bcf8fc",
   "metadata": {},
   "outputs": [
    {
     "data": {
      "text/plain": [
       "(1, 23, 4, 4, 56, 45, 65, 4, 34, 'sd')"
      ]
     },
     "execution_count": 86,
     "metadata": {},
     "output_type": "execute_result"
    }
   ],
   "source": [
    "myt"
   ]
  },
  {
   "cell_type": "code",
   "execution_count": 87,
   "id": "e67979ec",
   "metadata": {},
   "outputs": [],
   "source": [
    "s1 = r\"http://localhost:8888/notebooks/PythonProject_jupyter/pythonLearning_BUPT/bilibili_lecture5.ipynb\""
   ]
  },
  {
   "cell_type": "code",
   "execution_count": 88,
   "id": "55cfd5ba",
   "metadata": {},
   "outputs": [
    {
     "data": {
      "text/plain": [
       "'http://localhost:8888/notebooks/PythonProject_jupyter/pythonLearning_BUPT/bilibili_lecture5.ipynb'"
      ]
     },
     "execution_count": 88,
     "metadata": {},
     "output_type": "execute_result"
    }
   ],
   "source": [
    "s1"
   ]
  },
  {
   "cell_type": "code",
   "execution_count": 89,
   "id": "bd0376ff",
   "metadata": {},
   "outputs": [],
   "source": [
    "mydict = {1:'1', 2:'2'}"
   ]
  },
  {
   "cell_type": "code",
   "execution_count": 90,
   "id": "64193b3e",
   "metadata": {},
   "outputs": [
    {
     "data": {
      "text/plain": [
       "{1: '1', 2: '2'}"
      ]
     },
     "execution_count": 90,
     "metadata": {},
     "output_type": "execute_result"
    }
   ],
   "source": [
    "mydict"
   ]
  },
  {
   "cell_type": "code",
   "execution_count": 91,
   "id": "b5c08c56",
   "metadata": {},
   "outputs": [
    {
     "data": {
      "text/plain": [
       "'1'"
      ]
     },
     "execution_count": 91,
     "metadata": {},
     "output_type": "execute_result"
    }
   ],
   "source": [
    "mydict[1]"
   ]
  },
  {
   "cell_type": "code",
   "execution_count": 92,
   "id": "c56795f9",
   "metadata": {},
   "outputs": [],
   "source": [
    "def func(args1, **args2):\n",
    "    print(args1)\n",
    "    print(args2)"
   ]
  },
  {
   "cell_type": "code",
   "execution_count": 97,
   "id": "31cc8922",
   "metadata": {},
   "outputs": [
    {
     "name": "stdout",
     "output_type": "stream",
     "text": [
      "a\n",
      "{'x1': 'b', 'x2': 'c', 'x3': 'f'}\n"
     ]
    }
   ],
   "source": [
    "func(\"a\", x1 = \"b\", x2 = \"c\",x3 = \"f\")"
   ]
  },
  {
   "cell_type": "code",
   "execution_count": 98,
   "id": "b0360f26",
   "metadata": {},
   "outputs": [
    {
     "data": {
      "text/plain": [
       "0.963558185417193"
      ]
     },
     "execution_count": 98,
     "metadata": {},
     "output_type": "execute_result"
    }
   ],
   "source": [
    "import math as mt\n",
    "mt.sin(1.3)"
   ]
  },
  {
   "cell_type": "code",
   "execution_count": 99,
   "id": "c113518d",
   "metadata": {},
   "outputs": [
    {
     "data": {
      "text/plain": [
       "int"
      ]
     },
     "execution_count": 99,
     "metadata": {},
     "output_type": "execute_result"
    }
   ],
   "source": [
    "int"
   ]
  },
  {
   "cell_type": "code",
   "execution_count": 100,
   "id": "34ef9cf4",
   "metadata": {},
   "outputs": [
    {
     "data": {
      "text/plain": [
       "2"
      ]
     },
     "execution_count": 100,
     "metadata": {},
     "output_type": "execute_result"
    }
   ],
   "source": [
    "min([2,34,5,4,4,56,32,34,4,3,5])"
   ]
  },
  {
   "cell_type": "code",
   "execution_count": 101,
   "id": "bf277fa2",
   "metadata": {},
   "outputs": [
    {
     "data": {
      "text/plain": [
       "56"
      ]
     },
     "execution_count": 101,
     "metadata": {},
     "output_type": "execute_result"
    }
   ],
   "source": [
    "max([2,34,5,4,4,56,32,34,4,3,5])"
   ]
  },
  {
   "cell_type": "code",
   "execution_count": 102,
   "id": "4a3142b9",
   "metadata": {},
   "outputs": [
    {
     "data": {
      "text/plain": [
       "3.0"
      ]
     },
     "execution_count": 102,
     "metadata": {},
     "output_type": "execute_result"
    }
   ],
   "source": [
    "round(3.13145, 0)"
   ]
  },
  {
   "cell_type": "code",
   "execution_count": 104,
   "id": "1da8f2bd",
   "metadata": {},
   "outputs": [
    {
     "data": {
      "text/plain": [
       "3.233"
      ]
     },
     "execution_count": 104,
     "metadata": {},
     "output_type": "execute_result"
    }
   ],
   "source": [
    "round(3.2334, 3)"
   ]
  },
  {
   "cell_type": "code",
   "execution_count": 105,
   "id": "a4c1e43a",
   "metadata": {},
   "outputs": [
    {
     "data": {
      "text/plain": [
       "['y', 'u', 'z', 'u', 'l', 'i']"
      ]
     },
     "execution_count": 105,
     "metadata": {},
     "output_type": "execute_result"
    }
   ],
   "source": [
    "list(\"yuzuli\")"
   ]
  },
  {
   "cell_type": "code",
   "execution_count": 106,
   "id": "59e2870c",
   "metadata": {},
   "outputs": [
    {
     "data": {
      "text/plain": [
       "{'i', 'l', 'u', 'y', 'z'}"
      ]
     },
     "execution_count": 106,
     "metadata": {},
     "output_type": "execute_result"
    }
   ],
   "source": [
    "set(\"yuzuli\")"
   ]
  },
  {
   "cell_type": "code",
   "execution_count": 108,
   "id": "c67db04e",
   "metadata": {},
   "outputs": [
    {
     "data": {
      "text/plain": [
       "('y', 'u', 'z', 'u', 'l', 'i')"
      ]
     },
     "execution_count": 108,
     "metadata": {},
     "output_type": "execute_result"
    }
   ],
   "source": [
    "tuple(\"yuzuli\")"
   ]
  },
  {
   "cell_type": "code",
   "execution_count": 110,
   "id": "a9d0b7f6",
   "metadata": {},
   "outputs": [
    {
     "data": {
      "text/plain": [
       "True"
      ]
     },
     "execution_count": 110,
     "metadata": {},
     "output_type": "execute_result"
    }
   ],
   "source": [
    "i = 5\n",
    "isinstance(i, int)"
   ]
  },
  {
   "cell_type": "code",
   "execution_count": 111,
   "id": "c09d85de",
   "metadata": {},
   "outputs": [
    {
     "data": {
      "text/plain": [
       "False"
      ]
     },
     "execution_count": 111,
     "metadata": {},
     "output_type": "execute_result"
    }
   ],
   "source": [
    "isinstance(i, bool)"
   ]
  },
  {
   "cell_type": "code",
   "execution_count": 112,
   "id": "dea46319",
   "metadata": {},
   "outputs": [
    {
     "data": {
      "text/plain": [
       "['In',\n",
       " 'Out',\n",
       " '_',\n",
       " '_10',\n",
       " '_100',\n",
       " '_101',\n",
       " '_102',\n",
       " '_103',\n",
       " '_104',\n",
       " '_105',\n",
       " '_106',\n",
       " '_107',\n",
       " '_108',\n",
       " '_110',\n",
       " '_111',\n",
       " '_12',\n",
       " '_14',\n",
       " '_15',\n",
       " '_17',\n",
       " '_19',\n",
       " '_20',\n",
       " '_22',\n",
       " '_23',\n",
       " '_25',\n",
       " '_27',\n",
       " '_3',\n",
       " '_30',\n",
       " '_32',\n",
       " '_34',\n",
       " '_36',\n",
       " '_37',\n",
       " '_38',\n",
       " '_40',\n",
       " '_41',\n",
       " '_42',\n",
       " '_43',\n",
       " '_44',\n",
       " '_45',\n",
       " '_46',\n",
       " '_48',\n",
       " '_5',\n",
       " '_50',\n",
       " '_52',\n",
       " '_54',\n",
       " '_55',\n",
       " '_57',\n",
       " '_59',\n",
       " '_61',\n",
       " '_62',\n",
       " '_63',\n",
       " '_65',\n",
       " '_66',\n",
       " '_68',\n",
       " '_7',\n",
       " '_70',\n",
       " '_72',\n",
       " '_73',\n",
       " '_74',\n",
       " '_76',\n",
       " '_77',\n",
       " '_79',\n",
       " '_8',\n",
       " '_81',\n",
       " '_85',\n",
       " '_86',\n",
       " '_88',\n",
       " '_90',\n",
       " '_91',\n",
       " '_98',\n",
       " '_99',\n",
       " '__',\n",
       " '___',\n",
       " '__builtin__',\n",
       " '__builtins__',\n",
       " '__doc__',\n",
       " '__loader__',\n",
       " '__name__',\n",
       " '__package__',\n",
       " '__spec__',\n",
       " '_dh',\n",
       " '_i',\n",
       " '_i1',\n",
       " '_i10',\n",
       " '_i100',\n",
       " '_i101',\n",
       " '_i102',\n",
       " '_i103',\n",
       " '_i104',\n",
       " '_i105',\n",
       " '_i106',\n",
       " '_i107',\n",
       " '_i108',\n",
       " '_i109',\n",
       " '_i11',\n",
       " '_i110',\n",
       " '_i111',\n",
       " '_i112',\n",
       " '_i12',\n",
       " '_i13',\n",
       " '_i14',\n",
       " '_i15',\n",
       " '_i16',\n",
       " '_i17',\n",
       " '_i18',\n",
       " '_i19',\n",
       " '_i2',\n",
       " '_i20',\n",
       " '_i21',\n",
       " '_i22',\n",
       " '_i23',\n",
       " '_i24',\n",
       " '_i25',\n",
       " '_i26',\n",
       " '_i27',\n",
       " '_i28',\n",
       " '_i29',\n",
       " '_i3',\n",
       " '_i30',\n",
       " '_i31',\n",
       " '_i32',\n",
       " '_i33',\n",
       " '_i34',\n",
       " '_i35',\n",
       " '_i36',\n",
       " '_i37',\n",
       " '_i38',\n",
       " '_i39',\n",
       " '_i4',\n",
       " '_i40',\n",
       " '_i41',\n",
       " '_i42',\n",
       " '_i43',\n",
       " '_i44',\n",
       " '_i45',\n",
       " '_i46',\n",
       " '_i47',\n",
       " '_i48',\n",
       " '_i49',\n",
       " '_i5',\n",
       " '_i50',\n",
       " '_i51',\n",
       " '_i52',\n",
       " '_i53',\n",
       " '_i54',\n",
       " '_i55',\n",
       " '_i56',\n",
       " '_i57',\n",
       " '_i58',\n",
       " '_i59',\n",
       " '_i6',\n",
       " '_i60',\n",
       " '_i61',\n",
       " '_i62',\n",
       " '_i63',\n",
       " '_i64',\n",
       " '_i65',\n",
       " '_i66',\n",
       " '_i67',\n",
       " '_i68',\n",
       " '_i69',\n",
       " '_i7',\n",
       " '_i70',\n",
       " '_i71',\n",
       " '_i72',\n",
       " '_i73',\n",
       " '_i74',\n",
       " '_i75',\n",
       " '_i76',\n",
       " '_i77',\n",
       " '_i78',\n",
       " '_i79',\n",
       " '_i8',\n",
       " '_i80',\n",
       " '_i81',\n",
       " '_i82',\n",
       " '_i83',\n",
       " '_i84',\n",
       " '_i85',\n",
       " '_i86',\n",
       " '_i87',\n",
       " '_i88',\n",
       " '_i89',\n",
       " '_i9',\n",
       " '_i90',\n",
       " '_i91',\n",
       " '_i92',\n",
       " '_i93',\n",
       " '_i94',\n",
       " '_i95',\n",
       " '_i96',\n",
       " '_i97',\n",
       " '_i98',\n",
       " '_i99',\n",
       " '_ih',\n",
       " '_ii',\n",
       " '_iii',\n",
       " '_oh',\n",
       " 'a',\n",
       " 'b',\n",
       " 'calendar',\n",
       " 'cmath',\n",
       " 'e',\n",
       " 'exit',\n",
       " 'func',\n",
       " 'get_ipython',\n",
       " 'i',\n",
       " 'j',\n",
       " 'math',\n",
       " 'mt',\n",
       " 'myList',\n",
       " 'myList2',\n",
       " 'mydict',\n",
       " 'myl',\n",
       " 'myt',\n",
       " 'quit',\n",
       " 'res',\n",
       " 's1',\n",
       " 'sum',\n",
       " 'value',\n",
       " 'x']"
      ]
     },
     "execution_count": 112,
     "metadata": {},
     "output_type": "execute_result"
    }
   ],
   "source": [
    "dir()"
   ]
  },
  {
   "cell_type": "code",
   "execution_count": 113,
   "id": "89574de1",
   "metadata": {},
   "outputs": [],
   "source": [
    "myList = [1, 2, 3, 4, 5]"
   ]
  },
  {
   "cell_type": "code",
   "execution_count": 114,
   "id": "871b3886",
   "metadata": {},
   "outputs": [
    {
     "data": {
      "text/plain": [
       "5"
      ]
     },
     "execution_count": 114,
     "metadata": {},
     "output_type": "execute_result"
    }
   ],
   "source": [
    "len(myList)"
   ]
  },
  {
   "cell_type": "code",
   "execution_count": 117,
   "id": "442382a9",
   "metadata": {},
   "outputs": [
    {
     "data": {
      "text/plain": [
       "[1, 2, 3, 4, 5, 6, 7, 8, 9]"
      ]
     },
     "execution_count": 117,
     "metadata": {},
     "output_type": "execute_result"
    }
   ],
   "source": [
    "list(range(1, 10))\n"
   ]
  },
  {
   "cell_type": "code",
   "execution_count": 116,
   "id": "3db109d6",
   "metadata": {},
   "outputs": [
    {
     "data": {
      "text/plain": [
       "range(1, 10, 2)"
      ]
     },
     "execution_count": 116,
     "metadata": {},
     "output_type": "execute_result"
    }
   ],
   "source": [
    "list(range(1, 10, 2)"
   ]
  },
  {
   "cell_type": "code",
   "execution_count": 118,
   "id": "ae739944",
   "metadata": {},
   "outputs": [
    {
     "data": {
      "text/plain": [
       "True"
      ]
     },
     "execution_count": 118,
     "metadata": {},
     "output_type": "execute_result"
    }
   ],
   "source": [
    "callable(dir)"
   ]
  },
  {
   "cell_type": "code",
   "execution_count": 119,
   "id": "f06f8530",
   "metadata": {},
   "outputs": [
    {
     "data": {
      "text/plain": [
       "'0b1000'"
      ]
     },
     "execution_count": 119,
     "metadata": {},
     "output_type": "execute_result"
    }
   ],
   "source": [
    "bin(8)"
   ]
  },
  {
   "cell_type": "code",
   "execution_count": 120,
   "id": "5e3cbaef",
   "metadata": {},
   "outputs": [
    {
     "data": {
      "text/plain": [
       "'0xd'"
      ]
     },
     "execution_count": 120,
     "metadata": {},
     "output_type": "execute_result"
    }
   ],
   "source": [
    "hex(13)"
   ]
  },
  {
   "cell_type": "code",
   "execution_count": 121,
   "id": "335e9ba5",
   "metadata": {},
   "outputs": [
    {
     "name": "stdout",
     "output_type": "stream",
     "text": [
      "Object `get_name` not found.\n"
     ]
    }
   ],
   "source": [
    "get_name?"
   ]
  },
  {
   "cell_type": "code",
   "execution_count": 126,
   "id": "458b9272",
   "metadata": {},
   "outputs": [],
   "source": [
    "def get_name(msg):\n",
    "    '''dhfjkhasdlfasdfjk'''\n",
    "    name = input(msg)or 'Anonymous User'"
   ]
  },
  {
   "cell_type": "code",
   "execution_count": 127,
   "id": "f62d1669",
   "metadata": {},
   "outputs": [],
   "source": [
    "get_name?"
   ]
  },
  {
   "cell_type": "code",
   "execution_count": 128,
   "id": "d355dac4",
   "metadata": {},
   "outputs": [
    {
     "name": "stdout",
     "output_type": "stream",
     "text": [
      "dfhjuisodhfuioshdfs\n"
     ]
    }
   ],
   "source": [
    "get_name('dfhjuisodhfuiosh')"
   ]
  },
  {
   "cell_type": "code",
   "execution_count": 129,
   "id": "922cee8b",
   "metadata": {},
   "outputs": [
    {
     "name": "stdout",
     "output_type": "stream",
     "text": [
      "True\n"
     ]
    }
   ],
   "source": [
    "print(callable(get_name))"
   ]
  },
  {
   "cell_type": "code",
   "execution_count": 130,
   "id": "2daa3c93",
   "metadata": {},
   "outputs": [
    {
     "data": {
      "text/plain": [
       "<filter at 0x2de659a5e20>"
      ]
     },
     "execution_count": 130,
     "metadata": {},
     "output_type": "execute_result"
    }
   ],
   "source": [
    "myList = [1,2,3,4,5,6,7,8,9]\n",
    "filter(lambda x : x % 3 == 0, myList)"
   ]
  },
  {
   "cell_type": "code",
   "execution_count": 131,
   "id": "bd9097ca",
   "metadata": {},
   "outputs": [
    {
     "data": {
      "text/plain": [
       "[3, 6, 9]"
      ]
     },
     "execution_count": 131,
     "metadata": {},
     "output_type": "execute_result"
    }
   ],
   "source": [
    "list(filter(lambda x : x % 3 == 0, myList))"
   ]
  },
  {
   "cell_type": "code",
   "execution_count": 132,
   "id": "d417c0d6",
   "metadata": {},
   "outputs": [
    {
     "data": {
      "text/plain": [
       "[2, 4, 6, 8, 10, 12, 14, 16, 18]"
      ]
     },
     "execution_count": 132,
     "metadata": {},
     "output_type": "execute_result"
    }
   ],
   "source": [
    "list(map(lambda x : x * 2, myList))"
   ]
  },
  {
   "cell_type": "code",
   "execution_count": 141,
   "id": "e42bbbcf",
   "metadata": {},
   "outputs": [
    {
     "data": {
      "text/plain": [
       "45"
      ]
     },
     "execution_count": 141,
     "metadata": {},
     "output_type": "execute_result"
    }
   ],
   "source": [
    "from functools import reduce\n",
    "reduce(lambda x, y:x +y, myList)"
   ]
  },
  {
   "cell_type": "code",
   "execution_count": 138,
   "id": "aacbbef0",
   "metadata": {},
   "outputs": [],
   "source": [
    "reduce?"
   ]
  },
  {
   "cell_type": "code",
   "execution_count": null,
   "id": "b598588a",
   "metadata": {},
   "outputs": [],
   "source": []
  }
 ],
 "metadata": {
  "kernelspec": {
   "display_name": "Python 3 (ipykernel)",
   "language": "python",
   "name": "python3"
  },
  "language_info": {
   "codemirror_mode": {
    "name": "ipython",
    "version": 3
   },
   "file_extension": ".py",
   "mimetype": "text/x-python",
   "name": "python",
   "nbconvert_exporter": "python",
   "pygments_lexer": "ipython3",
   "version": "3.9.12"
  }
 },
 "nbformat": 4,
 "nbformat_minor": 5
}
