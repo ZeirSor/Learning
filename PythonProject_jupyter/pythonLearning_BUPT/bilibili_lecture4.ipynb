{
 "cells": [
  {
   "cell_type": "markdown",
   "id": "55e10da6",
   "metadata": {},
   "source": [
    "# 文字的加密"
   ]
  },
  {
   "cell_type": "markdown",
   "id": "4ecca147",
   "metadata": {},
   "source": [
    "## 凯撒密码（偏移）"
   ]
  },
  {
   "cell_type": "markdown",
   "id": "8320886f",
   "metadata": {},
   "source": [
    "#### 加密(encrypt)"
   ]
  },
  {
   "cell_type": "code",
   "execution_count": 7,
   "id": "9012e511",
   "metadata": {},
   "outputs": [],
   "source": [
    "alphabet_src = 'abcdefghijklmnopqrstuvwxyz'\n",
    "alphabet_tar = 'defghijklmnopqrstuvwxyzabc'"
   ]
  },
  {
   "cell_type": "code",
   "execution_count": 8,
   "id": "78b3a9b3",
   "metadata": {},
   "outputs": [],
   "source": [
    "src_str = 'hello world!'"
   ]
  },
  {
   "cell_type": "code",
   "execution_count": 9,
   "id": "238cb2e3",
   "metadata": {
    "scrolled": true
   },
   "outputs": [
    {
     "name": "stdout",
     "output_type": "stream",
     "text": [
      "k\n",
      "h\n",
      "o\n",
      "o\n",
      "r\n",
      "z\n",
      "r\n",
      "u\n",
      "o\n",
      "g\n"
     ]
    },
    {
     "ename": "NameError",
     "evalue": "name 'res' is not defined",
     "output_type": "error",
     "traceback": [
      "\u001b[1;31m---------------------------------------------------------------------------\u001b[0m",
      "\u001b[1;31mNameError\u001b[0m                                 Traceback (most recent call last)",
      "Input \u001b[1;32mIn [9]\u001b[0m, in \u001b[0;36m<cell line: 11>\u001b[1;34m()\u001b[0m\n\u001b[0;32m      8\u001b[0m     \u001b[38;5;28;01melse\u001b[39;00m:\n\u001b[0;32m      9\u001b[0m         \u001b[38;5;66;03m# print(single_char)\u001b[39;00m\n\u001b[0;32m     10\u001b[0m         encrypt \u001b[38;5;241m+\u001b[39m\u001b[38;5;241m=\u001b[39m single_char\n\u001b[1;32m---> 11\u001b[0m \u001b[38;5;28mprint\u001b[39m(\u001b[43mres\u001b[49m)\n",
      "\u001b[1;31mNameError\u001b[0m: name 'res' is not defined"
     ]
    }
   ],
   "source": [
    "encrypt = ''\n",
    "for single_char in src_str:\n",
    "    # print(single_char)\n",
    "    if single_char in alphabet_src:\n",
    "        index = alphabet_src.index(single_char)\n",
    "        print(alphabet_tar[index])\n",
    "        encrypt += alphabet_tar[index]\n",
    "    else:\n",
    "        # print(single_char)\n",
    "        encrypt += single_char\n",
    "print(res)"
   ]
  },
  {
   "cell_type": "code",
   "execution_count": null,
   "id": "aa505863",
   "metadata": {},
   "outputs": [],
   "source": [
    "%pdb"
   ]
  },
  {
   "cell_type": "code",
   "execution_count": null,
   "id": "aad5e741",
   "metadata": {},
   "outputs": [],
   "source": [
    "alphabet_src.index('a')"
   ]
  },
  {
   "cell_type": "code",
   "execution_count": null,
   "id": "05147ec9",
   "metadata": {},
   "outputs": [],
   "source": [
    "help(src_str.index)"
   ]
  },
  {
   "cell_type": "markdown",
   "id": "a66b86f8",
   "metadata": {},
   "source": [
    "#### 解密(decrypt)"
   ]
  },
  {
   "cell_type": "code",
   "execution_count": null,
   "id": "5dac5260",
   "metadata": {},
   "outputs": [],
   "source": [
    "decrypt = ''\n",
    "for single_char in res:\n",
    "    # print(single_char)\n",
    "    if single_char in alphabet_tar:\n",
    "        index = alphabet_tar.index(single_char)\n",
    "        print(alphabet_src[index])\n",
    "        decrypt += alphabet_src[index]\n",
    "    else:\n",
    "        # print(single_char)\n",
    "        decrypt += single_char\n",
    "print(decrypt)"
   ]
  },
  {
   "cell_type": "markdown",
   "id": "7f01179f",
   "metadata": {},
   "source": [
    "## 函数封装\n",
    "\n",
    "```python\n",
    "encryptIt()\n",
    "decryptIt()\n",
    "```"
   ]
  },
  {
   "cell_type": "code",
   "execution_count": null,
   "id": "cca11a22",
   "metadata": {},
   "outputs": [],
   "source": [
    "src_str = 'I love you!'\n",
    "def encrypyIt(src_str: str) -> str: \n",
    "    '''\n",
    "    对字符串进行简单加密\n",
    "    输入参数：src_str\n",
    "    返回结果：加密文本\n",
    "    '''\n",
    "    encrypt_str = ''\n",
    "    for single_char in src_str:\n",
    "        # print(single_char)\n",
    "        if single_char in alphabet_src:\n",
    "            index = alphabet_src.index(single_char)\n",
    "            # print(alphabet_tar[index])\n",
    "            encrypt_str += alphabet_tar[index]\n",
    "        else:\n",
    "            # print(single_char)\n",
    "            encrypt_str += single_char\n",
    "    return encrypt_str\n",
    "\n",
    "print(encrypyIt(src_str))"
   ]
  },
  {
   "cell_type": "code",
   "execution_count": null,
   "id": "9c9ff7a7",
   "metadata": {},
   "outputs": [],
   "source": [
    "src_str = encrypyIt(src_str)\n",
    "def decryptIt(src_str: str) -> str: \n",
    "    '''\n",
    "    对字符串进行解密\n",
    "    输入参数：src_str加密文本\n",
    "    返回结果：解密文本\n",
    "    '''\n",
    "    decrypt = ''\n",
    "    for single_char in src_str:\n",
    "        # print(single_char)\n",
    "        if single_char in alphabet_tar:\n",
    "            index = alphabet_tar.index(single_char)\n",
    "            # print(alphabet_src[index])\n",
    "            decrypt += alphabet_src[index]\n",
    "        else:\n",
    "            # print(single_char)\n",
    "            decrypt += single_char\n",
    "    return decrypt\n",
    " \n",
    "print(decryptIt(src_str))"
   ]
  },
  {
   "cell_type": "markdown",
   "id": "0c40037c",
   "metadata": {},
   "source": [
    "如果有同名，现在函数体内部找\n",
    "\n",
    "找不到才去找外部变量"
   ]
  },
  {
   "cell_type": "code",
   "execution_count": null,
   "id": "236256f7",
   "metadata": {},
   "outputs": [],
   "source": [
    "a = 1\n",
    "\n",
    "def myTest():\n",
    "    a = 2\n",
    "    print(a)\n",
    "\n",
    "myTest()\n",
    "print(a)\n",
    "\n",
    "def myTest2():\n",
    "    # a = 2\n",
    "    print(a)\n",
    "    \n",
    "myTest2()\n",
    "print(a)"
   ]
  },
  {
   "cell_type": "markdown",
   "id": "4cebfe24",
   "metadata": {},
   "source": [
    "或者用关键字`global`声明"
   ]
  },
  {
   "cell_type": "code",
   "execution_count": null,
   "id": "dadf4c36",
   "metadata": {},
   "outputs": [],
   "source": [
    "a = 1\n",
    "\n",
    "def myTest():\n",
    "    global a\n",
    "    a = 2\n",
    "    print(a)\n",
    "\n",
    "myTest()\n",
    "print(a)"
   ]
  },
  {
   "cell_type": "code",
   "execution_count": null,
   "id": "1a403911",
   "metadata": {},
   "outputs": [],
   "source": [
    "assert('abcdefghijklmnopqrstuvwxyz' == decryptIt(encrypyIt('abcdefghijklmnopqrstuvwxyz')))"
   ]
  },
  {
   "cell_type": "code",
   "execution_count": null,
   "id": "27dc1374",
   "metadata": {},
   "outputs": [],
   "source": [
    "# def encrypyIt(src_str: str) -> str: \n",
    "# 表示输入的是字符串，输出字符串"
   ]
  },
  {
   "cell_type": "code",
   "execution_count": null,
   "id": "52e7d3b5",
   "metadata": {},
   "outputs": [],
   "source": [
    "help(encrypyIt)"
   ]
  },
  {
   "cell_type": "code",
   "execution_count": null,
   "id": "98325cc6",
   "metadata": {},
   "outputs": [],
   "source": [
    "help(print)"
   ]
  },
  {
   "cell_type": "markdown",
   "id": "f2f266d2",
   "metadata": {},
   "source": [
    "### 添加函数说明，用三引号"
   ]
  },
  {
   "cell_type": "code",
   "execution_count": null,
   "id": "01d27989",
   "metadata": {},
   "outputs": [],
   "source": [
    "help(encrypyIt)"
   ]
  },
  {
   "cell_type": "code",
   "execution_count": null,
   "id": "dabbbeab",
   "metadata": {
    "scrolled": false
   },
   "outputs": [],
   "source": [
    "help(decryptIt)"
   ]
  },
  {
   "cell_type": "markdown",
   "id": "48b33d23",
   "metadata": {},
   "source": [
    "## 加密2"
   ]
  },
  {
   "cell_type": "code",
   "execution_count": null,
   "id": "a43567d1",
   "metadata": {},
   "outputs": [],
   "source": [
    "src_str = 'I love you!'\n",
    "def encrypyIt(src_str: str) -> str: \n",
    "    '''\n",
    "    对字符串进行简单加密\n",
    "    输入参数：src_str\n",
    "    返回结果：加密文本\n",
    "    '''\n",
    "    encrypt_str = ''\n",
    "    for single_char in src_str:\n",
    "        # print(single_char)\n",
    "        if single_char in alphabet_src:\n",
    "            old_index = alphabet_src.index(single_char)\n",
    "            new_index = (old_index + 3) % 26\n",
    "            # print(alphabet_tar[index])\n",
    "            encrypt_str += alphabet_src[new_index]\n",
    "        else:\n",
    "            # print(single_char)\n",
    "            encrypt_str += single_char\n",
    "    return encrypt_str\n",
    "\n",
    "print(encrypyIt(src_str))"
   ]
  },
  {
   "cell_type": "markdown",
   "id": "b34b0b85",
   "metadata": {},
   "source": [
    "## 解密2"
   ]
  },
  {
   "cell_type": "code",
   "execution_count": null,
   "id": "f14aa30d",
   "metadata": {},
   "outputs": [],
   "source": [
    "src_str = encrypyIt(src_str)\n",
    "def decryptIt(src_str: str) -> str: \n",
    "    '''\n",
    "    对字符串进行解密\n",
    "    输入参数：src_str加密文本\n",
    "    返回结果：解密文本\n",
    "    '''\n",
    "    decrypt = ''\n",
    "    for single_char in src_str:\n",
    "        # print(single_char)\n",
    "        if single_char in alphabet_tar:\n",
    "            old_index = alphabet_src.index(single_char)\n",
    "            new_index = (old_index - 3) % 26\n",
    "            # print(alphabet_src[index])\n",
    "            decrypt += alphabet_src[new_index]\n",
    "        else:\n",
    "            # print(single_char)\n",
    "            decrypt += single_char\n",
    "    return decrypt\n",
    " \n",
    "print(decryptIt(src_str))"
   ]
  },
  {
   "cell_type": "code",
   "execution_count": null,
   "id": "25b3f76f",
   "metadata": {},
   "outputs": [],
   "source": [
    "-4 % 26"
   ]
  },
  {
   "cell_type": "code",
   "execution_count": null,
   "id": "867070c7",
   "metadata": {},
   "outputs": [],
   "source": [
    "4 % 26"
   ]
  },
  {
   "cell_type": "markdown",
   "id": "0c81224f",
   "metadata": {},
   "source": [
    "## 解密加密统一"
   ]
  },
  {
   "cell_type": "code",
   "execution_count": null,
   "id": "d48f4c4d",
   "metadata": {},
   "outputs": [],
   "source": [
    "def cryptIt(src_str: str, if_crypyIt: bool = False) -> str: \n",
    "    '''\n",
    "    对字符串进行简单加密/解密\n",
    "    输入参数：src_str\n",
    "              if_crypyIt True表示加密 False表示解密\n",
    "    返回结果：加密/解密文本\n",
    "    '''\n",
    "    global alphabet_src\n",
    "    res = ''\n",
    "    for single_char in src_str:\n",
    "        # print(single_char)\n",
    "        if single_char in alphabet_src:\n",
    "                old_index = alphabet_src.index(single_char)\n",
    "            if if_crypyIt == True:\n",
    "                new_index = (old_index + 3) % 26\n",
    "            else:\n",
    "                new_index = (old_index - 3) % 26\n",
    "            # print(alphabet_tar[index])\n",
    "            res += alphabet_src[new_index]\n",
    "        else:\n",
    "            # print(single_char)\n",
    "            res += single_char\n",
    "    return res"
   ]
  },
  {
   "cell_type": "code",
   "execution_count": null,
   "id": "69dd5d1c",
   "metadata": {
    "scrolled": true
   },
   "outputs": [],
   "source": [
    "print(cryptIt('hzh is pig!', True))"
   ]
  },
  {
   "cell_type": "code",
   "execution_count": null,
   "id": "aabd7785",
   "metadata": {},
   "outputs": [],
   "source": [
    "print(cryptIt('kck lv slj!', False))"
   ]
  },
  {
   "cell_type": "code",
   "execution_count": null,
   "id": "ac9accf0",
   "metadata": {},
   "outputs": [],
   "source": [
    "help(cryptIt)"
   ]
  },
  {
   "cell_type": "code",
   "execution_count": null,
   "id": "520dc7dc",
   "metadata": {},
   "outputs": [],
   "source": [
    "print(cryptIt('ex'))"
   ]
  }
 ],
 "metadata": {
  "kernelspec": {
   "display_name": "Python 3 (ipykernel)",
   "language": "python",
   "name": "python3"
  },
  "language_info": {
   "codemirror_mode": {
    "name": "ipython",
    "version": 3
   },
   "file_extension": ".py",
   "mimetype": "text/x-python",
   "name": "python",
   "nbconvert_exporter": "python",
   "pygments_lexer": "ipython3",
   "version": "3.9.12"
  }
 },
 "nbformat": 4,
 "nbformat_minor": 5
}
