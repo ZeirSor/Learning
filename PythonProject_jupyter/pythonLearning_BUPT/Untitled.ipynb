{
 "cells": [
  {
   "cell_type": "code",
   "execution_count": 5,
   "id": "c4dbad76",
   "metadata": {},
   "outputs": [],
   "source": [
    "def cryptIt(src_str: str, if_crypyIt: bool = False) -> str: \n",
    "    '''\n",
    "    对字符串进行简单加密/解密\n",
    "    输入参数：src_str\n",
    "              if_crypyIt True表示加密 False表示解密\n",
    "    返回结果：加密/解密文本\n",
    "    '''\n",
    "    global alphabet_src\n",
    "    res = ''\n",
    "    for single_char in src_str:\n",
    "        # print(single_char)\n",
    "        if single_char in alphabet_src:\n",
    "                old_index = alphabet_src.index(single_char)\n",
    "                if if_crypyIt == True:\n",
    "                    new_index = (old_index + 3) % 26\n",
    "                else:\n",
    "                    new_index = (old_index - 3) % 26\n",
    "                # print(alphabet_tar[index])\n",
    "                res += alphabet_src[new_index]\n",
    "        else:\n",
    "            # print(single_char)\n",
    "            res += single_char\n",
    "    return res"
   ]
  },
  {
   "cell_type": "code",
   "execution_count": null,
   "id": "9cb82b04",
   "metadata": {},
   "outputs": [],
   "source": []
  }
 ],
 "metadata": {
  "kernelspec": {
   "display_name": "Python 3 (ipykernel)",
   "language": "python",
   "name": "python3"
  },
  "language_info": {
   "codemirror_mode": {
    "name": "ipython",
    "version": 3
   },
   "file_extension": ".py",
   "mimetype": "text/x-python",
   "name": "python",
   "nbconvert_exporter": "python",
   "pygments_lexer": "ipython3",
   "version": "3.9.12"
  }
 },
 "nbformat": 4,
 "nbformat_minor": 5
}
