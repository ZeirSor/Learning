{
 "cells": [
  {
   "cell_type": "markdown",
   "id": "2fd4505c",
   "metadata": {},
   "source": [
    "## 数据类型"
   ]
  },
  {
   "cell_type": "markdown",
   "id": "42f98773",
   "metadata": {},
   "source": [
    "### 查看数据类型"
   ]
  },
  {
   "cell_type": "code",
   "execution_count": 1,
   "id": "1bb0ce3c",
   "metadata": {},
   "outputs": [
    {
     "data": {
      "text/plain": [
       "int"
      ]
     },
     "execution_count": 1,
     "metadata": {},
     "output_type": "execute_result"
    }
   ],
   "source": [
    "type (1)"
   ]
  },
  {
   "cell_type": "code",
   "execution_count": 2,
   "id": "b2d2bb74",
   "metadata": {},
   "outputs": [
    {
     "data": {
      "text/plain": [
       "float"
      ]
     },
     "execution_count": 2,
     "metadata": {},
     "output_type": "execute_result"
    }
   ],
   "source": [
    "type (1.2)"
   ]
  },
  {
   "cell_type": "code",
   "execution_count": 3,
   "id": "d1d64fd2",
   "metadata": {},
   "outputs": [
    {
     "ename": "NameError",
     "evalue": "name 'true' is not defined",
     "output_type": "error",
     "traceback": [
      "\u001b[1;31m---------------------------------------------------------------------------\u001b[0m",
      "\u001b[1;31mNameError\u001b[0m                                 Traceback (most recent call last)",
      "Input \u001b[1;32mIn [3]\u001b[0m, in \u001b[0;36m<cell line: 1>\u001b[1;34m()\u001b[0m\n\u001b[1;32m----> 1\u001b[0m \u001b[38;5;28mtype\u001b[39m(\u001b[43mtrue\u001b[49m)\n",
      "\u001b[1;31mNameError\u001b[0m: name 'true' is not defined"
     ]
    }
   ],
   "source": [
    "type(true)"
   ]
  },
  {
   "cell_type": "code",
   "execution_count": 4,
   "id": "35af62b9",
   "metadata": {},
   "outputs": [
    {
     "data": {
      "text/plain": [
       "bool"
      ]
     },
     "execution_count": 4,
     "metadata": {},
     "output_type": "execute_result"
    }
   ],
   "source": [
    "type(True)"
   ]
  },
  {
   "cell_type": "code",
   "execution_count": 5,
   "id": "10e098ec",
   "metadata": {},
   "outputs": [
    {
     "data": {
      "text/plain": [
       "bool"
      ]
     },
     "execution_count": 5,
     "metadata": {},
     "output_type": "execute_result"
    }
   ],
   "source": [
    "type(False)"
   ]
  },
  {
   "cell_type": "code",
   "execution_count": 6,
   "id": "985e0380",
   "metadata": {},
   "outputs": [
    {
     "data": {
      "text/plain": [
       "str"
      ]
     },
     "execution_count": 6,
     "metadata": {},
     "output_type": "execute_result"
    }
   ],
   "source": [
    "type(\"DataScience\")"
   ]
  },
  {
   "cell_type": "markdown",
   "id": "413184fd",
   "metadata": {},
   "source": [
    "列表\n",
    "\n",
    "用“[ ]”表示"
   ]
  },
  {
   "cell_type": "code",
   "execution_count": 7,
   "id": "6da13e8e",
   "metadata": {},
   "outputs": [
    {
     "data": {
      "text/plain": [
       "list"
      ]
     },
     "execution_count": 7,
     "metadata": {},
     "output_type": "execute_result"
    }
   ],
   "source": [
    "type([1,2,3,4,5,6,7,8,9])"
   ]
  },
  {
   "cell_type": "markdown",
   "id": "e7d1764c",
   "metadata": {},
   "source": [
    "元组\n",
    "\n",
    "用“( )”表示"
   ]
  },
  {
   "cell_type": "code",
   "execution_count": 8,
   "id": "1349d92e",
   "metadata": {},
   "outputs": [
    {
     "data": {
      "text/plain": [
       "tuple"
      ]
     },
     "execution_count": 8,
     "metadata": {},
     "output_type": "execute_result"
    }
   ],
   "source": [
    "type((1,2,3,4,5,6,7,8,9))"
   ]
  },
  {
   "cell_type": "markdown",
   "id": "2d55a853",
   "metadata": {},
   "source": [
    "集合"
   ]
  },
  {
   "cell_type": "code",
   "execution_count": 9,
   "id": "cf90baa6",
   "metadata": {},
   "outputs": [
    {
     "data": {
      "text/plain": [
       "set"
      ]
     },
     "execution_count": 9,
     "metadata": {},
     "output_type": "execute_result"
    }
   ],
   "source": [
    "type({1,2,3,4,5,6,7,8,9})"
   ]
  },
  {
   "cell_type": "markdown",
   "id": "86f2253c",
   "metadata": {},
   "source": [
    "字典"
   ]
  },
  {
   "cell_type": "code",
   "execution_count": 10,
   "id": "4075773a",
   "metadata": {},
   "outputs": [
    {
     "data": {
      "text/plain": [
       "dict"
      ]
     },
     "execution_count": 10,
     "metadata": {},
     "output_type": "execute_result"
    }
   ],
   "source": [
    "type({\n",
    "    \"a\" :0,\n",
    "    \"b\" :1,\n",
    "    \"c\" :2,\n",
    "})"
   ]
  },
  {
   "cell_type": "markdown",
   "id": "a4bbc733",
   "metadata": {},
   "source": [
    "### 判断数据类型的方法"
   ]
  },
  {
   "cell_type": "code",
   "execution_count": 11,
   "id": "64a96426",
   "metadata": {},
   "outputs": [
    {
     "data": {
      "text/plain": [
       "True"
      ]
     },
     "execution_count": 11,
     "metadata": {},
     "output_type": "execute_result"
    }
   ],
   "source": [
    "x = 10\n",
    "isinstance(x, int)"
   ]
  },
  {
   "cell_type": "code",
   "execution_count": 12,
   "id": "d0f4c1e6",
   "metadata": {},
   "outputs": [
    {
     "data": {
      "text/plain": [
       "False"
      ]
     },
     "execution_count": 12,
     "metadata": {},
     "output_type": "execute_result"
    }
   ],
   "source": [
    "y = 10.0\n",
    "isinstance(y, int)"
   ]
  },
  {
   "cell_type": "code",
   "execution_count": 13,
   "id": "fb76af86",
   "metadata": {},
   "outputs": [
    {
     "data": {
      "text/plain": [
       "True"
      ]
     },
     "execution_count": 13,
     "metadata": {},
     "output_type": "execute_result"
    }
   ],
   "source": [
    "isinstance(y, float)"
   ]
  },
  {
   "cell_type": "markdown",
   "id": "d8576a07",
   "metadata": {},
   "source": [
    "特殊情况"
   ]
  },
  {
   "cell_type": "code",
   "execution_count": 14,
   "id": "7c2e4100",
   "metadata": {},
   "outputs": [
    {
     "data": {
      "text/plain": [
       "True"
      ]
     },
     "execution_count": 14,
     "metadata": {},
     "output_type": "execute_result"
    }
   ],
   "source": [
    "isinstance(True, int)\n",
    "\n",
    "# bool类型为int类型的子类"
   ]
  },
  {
   "cell_type": "markdown",
   "id": "b0ed8ec1",
   "metadata": {},
   "source": [
    "### 转换数据类型"
   ]
  },
  {
   "cell_type": "code",
   "execution_count": 15,
   "id": "db070af1",
   "metadata": {},
   "outputs": [
    {
     "data": {
      "text/plain": [
       "1"
      ]
     },
     "execution_count": 15,
     "metadata": {},
     "output_type": "execute_result"
    }
   ],
   "source": [
    "int(1.6)"
   ]
  },
  {
   "cell_type": "code",
   "execution_count": 16,
   "id": "9c4d81d5",
   "metadata": {},
   "outputs": [
    {
     "data": {
      "text/plain": [
       "1.0"
      ]
     },
     "execution_count": 16,
     "metadata": {},
     "output_type": "execute_result"
    }
   ],
   "source": [
    "float(1)"
   ]
  },
  {
   "cell_type": "code",
   "execution_count": 17,
   "id": "b7cf82f9",
   "metadata": {},
   "outputs": [
    {
     "data": {
      "text/plain": [
       "False"
      ]
     },
     "execution_count": 17,
     "metadata": {},
     "output_type": "execute_result"
    }
   ],
   "source": [
    "bool(0)"
   ]
  },
  {
   "cell_type": "code",
   "execution_count": 18,
   "id": "e96a5e60",
   "metadata": {},
   "outputs": [
    {
     "data": {
      "text/plain": [
       "True"
      ]
     },
     "execution_count": 18,
     "metadata": {},
     "output_type": "execute_result"
    }
   ],
   "source": [
    "bool(2)"
   ]
  },
  {
   "cell_type": "code",
   "execution_count": 19,
   "id": "fefecb52",
   "metadata": {},
   "outputs": [
    {
     "data": {
      "text/plain": [
       "True"
      ]
     },
     "execution_count": 19,
     "metadata": {},
     "output_type": "execute_result"
    }
   ],
   "source": [
    "bool(0.1)"
   ]
  },
  {
   "cell_type": "code",
   "execution_count": 20,
   "id": "664c0ab5",
   "metadata": {},
   "outputs": [
    {
     "data": {
      "text/plain": [
       "True"
      ]
     },
     "execution_count": 20,
     "metadata": {},
     "output_type": "execute_result"
    }
   ],
   "source": [
    "bool(-1)"
   ]
  },
  {
   "cell_type": "code",
   "execution_count": 21,
   "id": "66100a55",
   "metadata": {},
   "outputs": [
    {
     "data": {
      "text/plain": [
       "True"
      ]
     },
     "execution_count": 21,
     "metadata": {},
     "output_type": "execute_result"
    }
   ],
   "source": [
    "bool(-0.1)"
   ]
  },
  {
   "cell_type": "code",
   "execution_count": 22,
   "id": "1a6b8134",
   "metadata": {},
   "outputs": [
    {
     "data": {
      "text/plain": [
       "(1, 2, 3, 4)"
      ]
     },
     "execution_count": 22,
     "metadata": {},
     "output_type": "execute_result"
    }
   ],
   "source": [
    "tuple([1,2,3,4])"
   ]
  },
  {
   "cell_type": "code",
   "execution_count": 23,
   "id": "65357e63",
   "metadata": {},
   "outputs": [
    {
     "data": {
      "text/plain": [
       "[1, 2, 3, 4]"
      ]
     },
     "execution_count": 23,
     "metadata": {},
     "output_type": "execute_result"
    }
   ],
   "source": [
    "list((1,2,3,4))"
   ]
  },
  {
   "cell_type": "markdown",
   "id": "228f3cde",
   "metadata": {},
   "source": [
    "### 特殊数据类型"
   ]
  },
  {
   "cell_type": "code",
   "execution_count": 24,
   "id": "0c12d5b0",
   "metadata": {},
   "outputs": [
    {
     "data": {
      "text/plain": [
       "1"
      ]
     },
     "execution_count": 24,
     "metadata": {},
     "output_type": "execute_result"
    }
   ],
   "source": [
    "x = 1\n",
    "x"
   ]
  },
  {
   "cell_type": "code",
   "execution_count": 25,
   "id": "a75e8f4b",
   "metadata": {},
   "outputs": [],
   "source": [
    "# None\n",
    "x = None\n",
    "x"
   ]
  },
  {
   "cell_type": "code",
   "execution_count": 26,
   "id": "2bea8aed",
   "metadata": {},
   "outputs": [
    {
     "name": "stdout",
     "output_type": "stream",
     "text": [
      "None\n"
     ]
    }
   ],
   "source": [
    "# None\n",
    "x = None\n",
    "print(x)"
   ]
  },
  {
   "cell_type": "code",
   "execution_count": 27,
   "id": "454cce3b",
   "metadata": {},
   "outputs": [
    {
     "data": {
      "text/plain": [
       "NotImplemented"
      ]
     },
     "execution_count": 27,
     "metadata": {},
     "output_type": "execute_result"
    }
   ],
   "source": [
    "# 不支持此类对象\n",
    "NotImplemented"
   ]
  },
  {
   "cell_type": "code",
   "execution_count": 28,
   "id": "9771f073",
   "metadata": {},
   "outputs": [
    {
     "data": {
      "text/plain": [
       "Ellipsis"
      ]
     },
     "execution_count": 28,
     "metadata": {},
     "output_type": "execute_result"
    }
   ],
   "source": [
    "# 省略号\n",
    "Ellipsis"
   ]
  },
  {
   "cell_type": "code",
   "execution_count": 29,
   "id": "f0e01d56",
   "metadata": {},
   "outputs": [
    {
     "name": "stdout",
     "output_type": "stream",
     "text": [
      "x =  (2+3j)\n"
     ]
    }
   ],
   "source": [
    "# complex(复数)类型\n",
    "x = 2 + 3j\n",
    "print('x = ', x)"
   ]
  },
  {
   "cell_type": "code",
   "execution_count": 32,
   "id": "dd1517ae",
   "metadata": {},
   "outputs": [
    {
     "name": "stdout",
     "output_type": "stream",
     "text": [
      "y =  (3+4j)\n"
     ]
    }
   ],
   "source": [
    "y = complex(3, 4)\n",
    "print('y = ', y)"
   ]
  },
  {
   "cell_type": "code",
   "execution_count": 33,
   "id": "299999f7",
   "metadata": {},
   "outputs": [
    {
     "name": "stdout",
     "output_type": "stream",
     "text": [
      "x + y =  (5+7j)\n"
     ]
    }
   ],
   "source": [
    "print('x + y = ', x + y)"
   ]
  },
  {
   "cell_type": "code",
   "execution_count": 34,
   "id": "3ec5b7cc",
   "metadata": {},
   "outputs": [
    {
     "data": {
      "text/plain": [
       "True"
      ]
     },
     "execution_count": 34,
     "metadata": {},
     "output_type": "execute_result"
    }
   ],
   "source": [
    "# bool函数与布尔值\n",
    "bool(1)"
   ]
  },
  {
   "cell_type": "code",
   "execution_count": 35,
   "id": "985de5c1",
   "metadata": {},
   "outputs": [
    {
     "data": {
      "text/plain": [
       "False"
      ]
     },
     "execution_count": 35,
     "metadata": {},
     "output_type": "execute_result"
    }
   ],
   "source": [
    "bool(0)"
   ]
  },
  {
   "cell_type": "code",
   "execution_count": 36,
   "id": "da7fc0a7",
   "metadata": {},
   "outputs": [
    {
     "data": {
      "text/plain": [
       "True"
      ]
     },
     "execution_count": 36,
     "metadata": {},
     "output_type": "execute_result"
    }
   ],
   "source": [
    "bool(\"abc\")"
   ]
  },
  {
   "cell_type": "markdown",
   "id": "200392ac",
   "metadata": {},
   "source": [
    "*进制表达*"
   ]
  },
  {
   "cell_type": "code",
   "execution_count": 38,
   "id": "86f4d421",
   "metadata": {},
   "outputs": [
    {
     "data": {
      "text/plain": [
       "4"
      ]
     },
     "execution_count": 38,
     "metadata": {},
     "output_type": "execute_result"
    }
   ],
   "source": [
    "# 2进制\n",
    "int('100', base = 2)"
   ]
  },
  {
   "cell_type": "markdown",
   "id": "46064ac8",
   "metadata": {},
   "source": [
    "这里是将‘100’看作二进制输出对应的十进制‘4’"
   ]
  },
  {
   "cell_type": "markdown",
   "id": "be7e0e51",
   "metadata": {},
   "source": [
    "**进制转换函数**"
   ]
  },
  {
   "attachments": {
    "image.png": {
     "image/png": "[encoded data removed]"
    }
   },
   "cell_type": "markdown",
   "id": "165558a7",
   "metadata": {},
   "source": [
    "![image.png](attachment:image.png)"
   ]
  },
  {
   "cell_type": "code",
   "execution_count": 46,
   "id": "aeeb29d0",
   "metadata": {},
   "outputs": [
    {
     "data": {
      "text/plain": [
       "'0b100'"
      ]
     },
     "execution_count": 46,
     "metadata": {},
     "output_type": "execute_result"
    }
   ],
   "source": [
    "# 十进制转二进制\n",
    "bin(int(4))"
   ]
  },
  {
   "cell_type": "code",
   "execution_count": 47,
   "id": "4b94280c",
   "metadata": {},
   "outputs": [
    {
     "data": {
      "text/plain": [
       "980.0"
      ]
     },
     "execution_count": 47,
     "metadata": {},
     "output_type": "execute_result"
    }
   ],
   "source": [
    "# 科学计数法\n",
    "9.8e2"
   ]
  },
  {
   "cell_type": "code",
   "execution_count": 52,
   "id": "df532981",
   "metadata": {},
   "outputs": [
    {
     "data": {
      "text/plain": [
       "98123.4"
      ]
     },
     "execution_count": 52,
     "metadata": {},
     "output_type": "execute_result"
    }
   ],
   "source": [
    "9.81234e4"
   ]
  },
  {
   "cell_type": "markdown",
   "id": "c266d687",
   "metadata": {},
   "source": [
    "### 序列(Sequence)类型\n",
    "$$\n",
    "序列类型\n",
    "\\begin{cases}\n",
    "字符串\\\\\n",
    "列表\\\\\n",
    "元组\\\\\n",
    "\\end{cases} \\\\\n",
    "$$"
   ]
  },
  {
   "cell_type": "code",
   "execution_count": 11,
   "id": "7f02c92e",
   "metadata": {},
   "outputs": [],
   "source": [
    "mySeq1 = \"Data Science\"\n",
    "mySeq2 = [1,2,3,4,5]\n",
    "mySeq3 = (11,12,13,14,15)"
   ]
  },
  {
   "cell_type": "code",
   "execution_count": 12,
   "id": "2eff9d03",
   "metadata": {},
   "outputs": [
    {
     "data": {
      "text/plain": [
       "('at', [3, 4], (14, 15))"
      ]
     },
     "execution_count": 12,
     "metadata": {},
     "output_type": "execute_result"
    }
   ],
   "source": [
    "mySeq1[1:3],mySeq2[2:4],mySeq3[3:5]"
   ]
  },
  {
   "cell_type": "code",
   "execution_count": 9,
   "id": "6781cb5c",
   "metadata": {},
   "outputs": [
    {
     "data": {
      "text/plain": [
       "'Data ScienceData ScienceData Science'"
      ]
     },
     "execution_count": 9,
     "metadata": {},
     "output_type": "execute_result"
    }
   ],
   "source": [
    "mySeq1*3"
   ]
  },
  {
   "cell_type": "code",
   "execution_count": 13,
   "id": "699dc970",
   "metadata": {},
   "outputs": [
    {
     "name": "stdout",
     "output_type": "stream",
     "text": [
      "The Zen of Python, by Tim Peters\n",
      "\n",
      "Beautiful is better than ugly.\n",
      "Explicit is better than implicit.\n",
      "Simple is better than complex.\n",
      "Complex is better than complicated.\n",
      "Flat is better than nested.\n",
      "Sparse is better than dense.\n",
      "Readability counts.\n",
      "Special cases aren't special enough to break the rules.\n",
      "Although practicality beats purity.\n",
      "Errors should never pass silently.\n",
      "Unless explicitly silenced.\n",
      "In the face of ambiguity, refuse the temptation to guess.\n",
      "There should be one-- and preferably only one --obvious way to do it.\n",
      "Although that way may not be obvious at first unless you're Dutch.\n",
      "Now is better than never.\n",
      "Although never is often better than *right* now.\n",
      "If the implementation is hard to explain, it's a bad idea.\n",
      "If the implementation is easy to explain, it may be a good idea.\n",
      "Namespaces are one honking great idea -- let's do more of those!\n"
     ]
    }
   ],
   "source": [
    "import this"
   ]
  }
 ],
 "metadata": {
  "interpreter": {
   "hash": "400ca11f759981ef6660bc6e25d7a319fceae8d30e16ed1c69fcd27308f0825d"
  },
  "kernelspec": {
   "display_name": "Python 3 (ipykernel)",
   "language": "python",
   "name": "python3"
  },
  "language_info": {
   "codemirror_mode": {
    "name": "ipython",
    "version": 3
   },
   "file_extension": ".py",
   "mimetype": "text/x-python",
   "name": "python",
   "nbconvert_exporter": "python",
   "pygments_lexer": "ipython3",
   "version": "3.9.12"
  }
 },
 "nbformat": 4,
 "nbformat_minor": 5
}
