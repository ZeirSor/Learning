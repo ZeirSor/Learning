{
 "cells": [
  {
   "cell_type": "code",
   "execution_count": 4,
   "metadata": {
    "collapsed": true,
    "pycharm": {
     "name": "#%%\n"
    }
   },
   "outputs": [
    {
     "name": "stdout",
     "output_type": "stream",
     "text": [
      "Hi, I am Tom .\n"
     ]
    }
   ],
   "source": [
    "class Person:\n",
    "    nationality = 'China'\n",
    "    _deposit = 10e10\n",
    "    __gender = \"M\"\n",
    "\n",
    "    def __init__(self, name, age):\n",
    "        self.name = name\n",
    "        age = age\n",
    "\n",
    "    def say_hi(self):\n",
    "        print('Hi, I am', self.name, '.')\n",
    "\n",
    "\n",
    "p1 = Person('Tom', 30)\n",
    "p1.say_hi()"
   ]
  },
  {
   "cell_type": "code",
   "execution_count": 14,
   "outputs": [
    {
     "name": "stdout",
     "output_type": "stream",
     "text": [
      "Hi, I am Tom .\n",
      "I live in CHINA\n",
      "9\n"
     ]
    }
   ],
   "source": [
    "class Person:\n",
    "\n",
    "    '''\n",
    "    666\n",
    "    '''\n",
    "\n",
    "    nationality = 'China'\n",
    "    _deposit = 10e10\n",
    "    __gender = \"M\"\n",
    "\n",
    "    def __init__(self, name, age):\n",
    "        self.name = name\n",
    "        age = age\n",
    "\n",
    "    def say_hi(self):\n",
    "        print('Hi, I am', self.name, '.')\n",
    "\n",
    "    # def class_func(cls):\n",
    "    @classmethod\n",
    "    def class_func(cls):\n",
    "        cls.nationality = \"CHINA\"\n",
    "        print('I live in {0}'.format(cls.nationality))\n",
    "\n",
    "    @staticmethod\n",
    "    def static_func(x, y):\n",
    "        print(x + y)\n",
    "\n",
    "\n",
    "p1 = Person('Tom', 20)\n",
    "p1.say_hi()\n",
    "Person.class_func()\n",
    "Person.static_func(4, 5)\n"
   ],
   "metadata": {
    "collapsed": false,
    "pycharm": {
     "name": "#%%\n"
    }
   }
  },
  {
   "cell_type": "code",
   "execution_count": 6,
   "outputs": [
    {
     "name": "stdout",
     "output_type": "stream",
     "text": [
      "I live in CHINA\n"
     ]
    }
   ],
   "source": [
    "class Teacher(Person):\n",
    "    pass\n",
    "\n",
    "t1 = Teacher(\"zhang\", 20)\n",
    "Person.class_func()"
   ],
   "metadata": {
    "collapsed": false,
    "pycharm": {
     "name": "#%%\n"
    }
   }
  },
  {
   "cell_type": "code",
   "execution_count": 7,
   "outputs": [
    {
     "name": "stdout",
     "output_type": "stream",
     "text": [
      "I live in CHINA\n"
     ]
    }
   ],
   "source": [
    "t1.class_func()"
   ],
   "metadata": {
    "collapsed": false,
    "pycharm": {
     "name": "#%%\n"
    }
   }
  },
  {
   "cell_type": "code",
   "execution_count": 8,
   "outputs": [
    {
     "name": "stdout",
     "output_type": "stream",
     "text": [
      "10\n"
     ]
    }
   ],
   "source": [
    "t1.static_func(3, 7)"
   ],
   "metadata": {
    "collapsed": false,
    "pycharm": {
     "name": "#%%\n"
    }
   }
  },
  {
   "cell_type": "code",
   "execution_count": 9,
   "outputs": [
    {
     "data": {
      "text/plain": "100000000000.0"
     },
     "execution_count": 9,
     "metadata": {},
     "output_type": "execute_result"
    }
   ],
   "source": [
    "t1._deposit"
   ],
   "metadata": {
    "collapsed": false,
    "pycharm": {
     "name": "#%%\n"
    }
   }
  },
  {
   "cell_type": "code",
   "execution_count": 10,
   "outputs": [],
   "source": [
    "Person?"
   ],
   "metadata": {
    "collapsed": false,
    "pycharm": {
     "name": "#%%\n"
    }
   }
  },
  {
   "cell_type": "code",
   "execution_count": 11,
   "outputs": [],
   "source": [
    "Teacher?"
   ],
   "metadata": {
    "collapsed": false,
    "pycharm": {
     "name": "#%%\n"
    }
   }
  },
  {
   "cell_type": "code",
   "execution_count": 12,
   "outputs": [
    {
     "data": {
      "text/plain": "'Person'"
     },
     "execution_count": 12,
     "metadata": {},
     "output_type": "execute_result"
    }
   ],
   "source": [
    "Person.__name__"
   ],
   "metadata": {
    "collapsed": false,
    "pycharm": {
     "name": "#%%\n"
    }
   }
  },
  {
   "cell_type": "code",
   "execution_count": 15,
   "outputs": [
    {
     "data": {
      "text/plain": "'\\n    666\\n    '"
     },
     "execution_count": 15,
     "metadata": {},
     "output_type": "execute_result"
    }
   ],
   "source": [
    "Person.__doc__"
   ],
   "metadata": {
    "collapsed": false,
    "pycharm": {
     "name": "#%%\n"
    }
   }
  },
  {
   "cell_type": "code",
   "execution_count": 16,
   "outputs": [
    {
     "data": {
      "text/plain": "__main__.Person"
     },
     "execution_count": 16,
     "metadata": {},
     "output_type": "execute_result"
    }
   ],
   "source": [
    "Teacher.__base__"
   ],
   "metadata": {
    "collapsed": false,
    "pycharm": {
     "name": "#%%\n"
    }
   }
  },
  {
   "cell_type": "code",
   "execution_count": 17,
   "outputs": [
    {
     "data": {
      "text/plain": "mappingproxy({'__module__': '__main__',\n              '__doc__': None,\n              'nationality': 'CHINA'})"
     },
     "execution_count": 17,
     "metadata": {},
     "output_type": "execute_result"
    }
   ],
   "source": [
    "Teacher.__dict__"
   ],
   "metadata": {
    "collapsed": false,
    "pycharm": {
     "name": "#%%\n"
    }
   }
  },
  {
   "cell_type": "code",
   "execution_count": 18,
   "outputs": [
    {
     "data": {
      "text/plain": "'__main__'"
     },
     "execution_count": 18,
     "metadata": {},
     "output_type": "execute_result"
    }
   ],
   "source": [
    "Person.__module__"
   ],
   "metadata": {
    "collapsed": false,
    "pycharm": {
     "name": "#%%\n"
    }
   }
  },
  {
   "cell_type": "code",
   "execution_count": 19,
   "outputs": [
    {
     "data": {
      "text/plain": "type"
     },
     "execution_count": 19,
     "metadata": {},
     "output_type": "execute_result"
    }
   ],
   "source": [
    "Person.__class__"
   ],
   "metadata": {
    "collapsed": false,
    "pycharm": {
     "name": "#%%\n"
    }
   }
  },
  {
   "cell_type": "code",
   "execution_count": 20,
   "outputs": [
    {
     "name": "stdout",
     "output_type": "stream",
     "text": [
      "zhang\n"
     ]
    }
   ],
   "source": [
    "class Student:\n",
    "    __name = 'zhang'\n",
    "    age = 18\n",
    "\n",
    "    @property\n",
    "    def get_name(self):\n",
    "        print(self.__name)\n",
    "\n",
    "\n",
    "Student1 = Student()\n",
    "Student1.get_name"
   ],
   "metadata": {
    "collapsed": false,
    "pycharm": {
     "name": "#%%\n"
    }
   }
  },
  {
   "cell_type": "code",
   "execution_count": 24,
   "outputs": [
    {
     "name": "stdout",
     "output_type": "stream",
     "text": [
      "new is called\n",
      "init is called\n",
      "zhang 16\n"
     ]
    }
   ],
   "source": [
    "class Student2:\n",
    "    name = 'wang'\n",
    "    __age = 16\n",
    "\n",
    "    def __new__(cls, name, age):\n",
    "        print(\"new is called\")\n",
    "        return object.__new__(cls)\n",
    "\n",
    "    def __init__(self, name, age):\n",
    "        print(\"init is called\")\n",
    "        self.name = name\n",
    "        self.age = age\n",
    "\n",
    "    def sayHi(self):\n",
    "        print(self.name, self.__age)\n",
    "\n",
    "\n",
    "s2 = Student2('zhang', 19)\n",
    "s2.sayHi()"
   ],
   "metadata": {
    "collapsed": false,
    "pycharm": {
     "name": "#%%\n"
    }
   }
  },
  {
   "cell_type": "code",
   "execution_count": 25,
   "outputs": [
    {
     "data": {
      "text/plain": "'E:\\\\Learning\\\\python-class'"
     },
     "execution_count": 25,
     "metadata": {},
     "output_type": "execute_result"
    }
   ],
   "source": [
    "import os\n",
    "os.getcwd()"
   ],
   "metadata": {
    "collapsed": false,
    "pycharm": {
     "name": "#%%\n"
    }
   }
  },
  {
   "cell_type": "code",
   "execution_count": 26,
   "outputs": [
    {
     "name": "stdout",
     "output_type": "stream",
     "text": [
      "Hi, PyCharm\n"
     ]
    }
   ],
   "source": [
    "%run main.py"
   ],
   "metadata": {
    "collapsed": false,
    "pycharm": {
     "name": "#%%\n"
    }
   }
  },
  {
   "cell_type": "code",
   "execution_count": 27,
   "outputs": [],
   "source": [
    "os.chdir('C:/')"
   ],
   "metadata": {
    "collapsed": false,
    "pycharm": {
     "name": "#%%\n"
    }
   }
  },
  {
   "cell_type": "code",
   "execution_count": 30,
   "outputs": [
    {
     "data": {
      "text/plain": "['DataFrame',\n 'In',\n 'MultiIndex',\n 'Out',\n 'Person',\n 'Student',\n 'Student1',\n 'Student2',\n 'Teacher',\n '_',\n '_12',\n '_15',\n '_16',\n '_17',\n '_18',\n '_19',\n '_25',\n '_9',\n '__',\n '___',\n '__builtin__',\n '__builtins__',\n '__doc__',\n '__loader__',\n '__name__',\n '__nonzero__',\n '__package__',\n '__spec__',\n '_dh',\n '_exit_code',\n '_i',\n '_i1',\n '_i10',\n '_i11',\n '_i12',\n '_i13',\n '_i14',\n '_i15',\n '_i16',\n '_i17',\n '_i18',\n '_i19',\n '_i2',\n '_i20',\n '_i21',\n '_i22',\n '_i23',\n '_i24',\n '_i25',\n '_i26',\n '_i27',\n '_i28',\n '_i29',\n '_i3',\n '_i30',\n '_i4',\n '_i5',\n '_i6',\n '_i7',\n '_i8',\n '_i9',\n '_ih',\n '_ii',\n '_iii',\n '_oh',\n '_pydevd_bundle',\n 'exit',\n 'get_ipython',\n 'os',\n 'p1',\n 'print_hi',\n 'pydev_jupyter_vars',\n 'quit',\n 'remove_imported_pydev_package',\n 's2',\n 'sys',\n 't1']"
     },
     "execution_count": 30,
     "metadata": {},
     "output_type": "execute_result"
    }
   ],
   "source": [
    "dir()"
   ],
   "metadata": {
    "collapsed": false,
    "pycharm": {
     "name": "#%%\n"
    }
   }
  },
  {
   "cell_type": "code",
   "execution_count": 31,
   "outputs": [
    {
     "name": "stdout",
     "output_type": "stream",
     "text": [
      " 驱动器 C 中的卷是 OS\n",
      " 卷的序列号是 4E01-5FB0\n",
      "\n",
      " C:\\ 的目录\n",
      "\n",
      "2022/09/09  09:13    <DIR>          $WINDOWS.~BT\n",
      "2022/07/17  16:44    <DIR>          CenterTaskbar-master\n",
      "2022/07/17  03:19    <DIR>          eSupport\n",
      "2022/07/17  16:55    <DIR>          KuGou\n",
      "2022/09/09  16:07    <DIR>          opencv\n",
      "2022/09/20  14:57    <DIR>          Program Files\n",
      "2022/10/02  20:14    <DIR>          Program Files (x86)\n",
      "2022/07/18  01:37    <DIR>          Qt\n",
      "2022/07/16  11:39    <DIR>          Users\n",
      "2022/10/21  13:46    <DIR>          Windows\n",
      "2022/07/17  13:02    <DIR>          XboxGames\n",
      "               0 个文件              0 字节\n",
      "              11 个目录 300,900,380,672 可用字节\n"
     ]
    }
   ],
   "source": [
    "ls"
   ],
   "metadata": {
    "collapsed": false,
    "pycharm": {
     "name": "#%%\n"
    }
   }
  },
  {
   "cell_type": "code",
   "execution_count": null,
   "outputs": [],
   "source": [],
   "metadata": {
    "collapsed": false,
    "pycharm": {
     "name": "#%%\n"
    }
   }
  }
 ],
 "metadata": {
  "kernelspec": {
   "display_name": "Python 3",
   "language": "python",
   "name": "python3"
  },
  "language_info": {
   "codemirror_mode": {
    "name": "ipython",
    "version": 2
   },
   "file_extension": ".py",
   "mimetype": "text/x-python",
   "name": "python",
   "nbconvert_exporter": "python",
   "pygments_lexer": "ipython2",
   "version": "2.7.6"
  }
 },
 "nbformat": 4,
 "nbformat_minor": 0
}