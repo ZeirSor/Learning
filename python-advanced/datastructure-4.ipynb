{
 "cells": [
  {
   "cell_type": "markdown",
   "metadata": {
    "collapsed": false,
    "pycharm": {
     "name": "#%% md\n"
    }
   },
   "source": [
    "# 统计序列中元素的频度"
   ]
  },
  {
   "cell_type": "code",
   "execution_count": 1,
   "metadata": {
    "collapsed": false,
    "pycharm": {
     "name": "#%%\n"
    }
   },
   "outputs": [],
   "source": [
    "from random import randint\n",
    "data = [randint(0, 20) for _ in range(30)]"
   ]
  },
  {
   "cell_type": "code",
   "execution_count": 2,
   "metadata": {
    "collapsed": false,
    "pycharm": {
     "name": "#%%\n"
    }
   },
   "outputs": [
    {
     "data": {
      "text/plain": [
       "[6,\n",
       " 1,\n",
       " 18,\n",
       " 4,\n",
       " 5,\n",
       " 0,\n",
       " 0,\n",
       " 20,\n",
       " 7,\n",
       " 14,\n",
       " 20,\n",
       " 18,\n",
       " 5,\n",
       " 1,\n",
       " 7,\n",
       " 19,\n",
       " 2,\n",
       " 11,\n",
       " 15,\n",
       " 2,\n",
       " 10,\n",
       " 7,\n",
       " 15,\n",
       " 0,\n",
       " 18,\n",
       " 5,\n",
       " 7,\n",
       " 3,\n",
       " 7,\n",
       " 6]"
      ]
     },
     "execution_count": 2,
     "metadata": {},
     "output_type": "execute_result"
    }
   ],
   "source": [
    "data"
   ]
  },
  {
   "cell_type": "code",
   "execution_count": 3,
   "metadata": {
    "collapsed": false,
    "pycharm": {
     "name": "#%%\n"
    }
   },
   "outputs": [],
   "source": [
    "dic = dict.fromkeys(data, 0)"
   ]
  },
  {
   "cell_type": "code",
   "execution_count": 5,
   "metadata": {
    "collapsed": false,
    "pycharm": {
     "name": "#%%\n"
    }
   },
   "outputs": [
    {
     "data": {
      "text/plain": [
       "{6: 0,\n",
       " 1: 0,\n",
       " 18: 0,\n",
       " 4: 0,\n",
       " 5: 0,\n",
       " 0: 0,\n",
       " 20: 0,\n",
       " 7: 0,\n",
       " 14: 0,\n",
       " 19: 0,\n",
       " 2: 0,\n",
       " 11: 0,\n",
       " 15: 0,\n",
       " 10: 0,\n",
       " 3: 0}"
      ]
     },
     "execution_count": 5,
     "metadata": {},
     "output_type": "execute_result"
    }
   ],
   "source": [
    "dic"
   ]
  },
  {
   "cell_type": "code",
   "execution_count": 6,
   "metadata": {
    "collapsed": false,
    "pycharm": {
     "name": "#%%\n"
    }
   },
   "outputs": [
    {
     "data": {
      "text/plain": [
       "{6: 2,\n",
       " 1: 2,\n",
       " 18: 3,\n",
       " 4: 1,\n",
       " 5: 3,\n",
       " 0: 3,\n",
       " 20: 2,\n",
       " 7: 5,\n",
       " 14: 1,\n",
       " 19: 1,\n",
       " 2: 2,\n",
       " 11: 1,\n",
       " 15: 2,\n",
       " 10: 1,\n",
       " 3: 1}"
      ]
     },
     "execution_count": 6,
     "metadata": {},
     "output_type": "execute_result"
    }
   ],
   "source": [
    "for x in data:\n",
    "    dic[x] += 1\n",
    "dic"
   ]
  },
  {
   "cell_type": "code",
   "execution_count": 7,
   "metadata": {
    "collapsed": false,
    "pycharm": {
     "name": "#%%\n"
    }
   },
   "outputs": [
    {
     "data": {
      "text/plain": [
       "[(5, 7),\n",
       " (3, 18),\n",
       " (3, 5),\n",
       " (3, 0),\n",
       " (2, 20),\n",
       " (2, 15),\n",
       " (2, 6),\n",
       " (2, 2),\n",
       " (2, 1),\n",
       " (1, 19),\n",
       " (1, 14),\n",
       " (1, 11),\n",
       " (1, 10),\n",
       " (1, 4),\n",
       " (1, 3)]"
      ]
     },
     "execution_count": 7,
     "metadata": {},
     "output_type": "execute_result"
    }
   ],
   "source": [
    "sorted([(v, k) for k, v in dic.items()], reverse=True)"
   ]
  },
  {
   "cell_type": "code",
   "execution_count": 8,
   "metadata": {
    "collapsed": false,
    "pycharm": {
     "name": "#%%\n"
    }
   },
   "outputs": [
    {
     "data": {
      "text/plain": [
       "[(5, 7), (3, 18), (3, 5)]"
      ]
     },
     "execution_count": 8,
     "metadata": {},
     "output_type": "execute_result"
    }
   ],
   "source": [
    "sorted([(v, k) for k, v in dic.items()], reverse=True)[:3]"
   ]
  },
  {
   "cell_type": "code",
   "execution_count": 9,
   "metadata": {
    "collapsed": false,
    "pycharm": {
     "name": "#%%\n"
    }
   },
   "outputs": [
    {
     "data": {
      "text/plain": [
       "[(5, 7), (3, 18), (3, 5)]"
      ]
     },
     "execution_count": 9,
     "metadata": {},
     "output_type": "execute_result"
    }
   ],
   "source": [
    "sorted(((v, k) for k, v in dic.items()), reverse=True)[:3]"
   ]
  },
  {
   "cell_type": "markdown",
   "metadata": {
    "collapsed": false,
    "pycharm": {
     "name": "#%% md\n"
    }
   },
   "source": [
    "## 用堆"
   ]
  },
  {
   "cell_type": "code",
   "execution_count": 11,
   "metadata": {
    "collapsed": false,
    "pycharm": {
     "name": "#%%\n"
    }
   },
   "outputs": [
    {
     "data": {
      "text/plain": [
       "[(5, 7), (3, 18), (3, 5)]"
      ]
     },
     "execution_count": 11,
     "metadata": {},
     "output_type": "execute_result"
    }
   ],
   "source": [
    "import heapq\n",
    "heapq.nlargest(3, ((v, k) for k, v in dic.items()))"
   ]
  },
  {
   "cell_type": "markdown",
   "metadata": {
    "collapsed": false,
    "pycharm": {
     "name": "#%% md\n"
    }
   },
   "source": [
    "## 用Collections的Counter对象"
   ]
  },
  {
   "cell_type": "code",
   "execution_count": 13,
   "metadata": {
    "collapsed": false,
    "pycharm": {
     "name": "#%%\n"
    }
   },
   "outputs": [
    {
     "data": {
      "text/plain": [
       "[6,\n",
       " 1,\n",
       " 18,\n",
       " 4,\n",
       " 5,\n",
       " 0,\n",
       " 0,\n",
       " 20,\n",
       " 7,\n",
       " 14,\n",
       " 20,\n",
       " 18,\n",
       " 5,\n",
       " 1,\n",
       " 7,\n",
       " 19,\n",
       " 2,\n",
       " 11,\n",
       " 15,\n",
       " 2,\n",
       " 10,\n",
       " 7,\n",
       " 15,\n",
       " 0,\n",
       " 18,\n",
       " 5,\n",
       " 7,\n",
       " 3,\n",
       " 7,\n",
       " 6]"
      ]
     },
     "execution_count": 13,
     "metadata": {},
     "output_type": "execute_result"
    }
   ],
   "source": [
    "from collections import Counter\n",
    "data"
   ]
  },
  {
   "cell_type": "code",
   "execution_count": 14,
   "metadata": {
    "collapsed": false,
    "pycharm": {
     "name": "#%%\n"
    }
   },
   "outputs": [
    {
     "data": {
      "text/plain": [
       "Counter({6: 2,\n",
       "         1: 2,\n",
       "         18: 3,\n",
       "         4: 1,\n",
       "         5: 3,\n",
       "         0: 3,\n",
       "         20: 2,\n",
       "         7: 5,\n",
       "         14: 1,\n",
       "         19: 1,\n",
       "         2: 2,\n",
       "         11: 1,\n",
       "         15: 2,\n",
       "         10: 1,\n",
       "         3: 1})"
      ]
     },
     "execution_count": 14,
     "metadata": {},
     "output_type": "execute_result"
    }
   ],
   "source": [
    "Counter(data)"
   ]
  },
  {
   "cell_type": "code",
   "execution_count": 15,
   "metadata": {
    "collapsed": false,
    "pycharm": {
     "name": "#%%\n"
    }
   },
   "outputs": [
    {
     "data": {
      "text/plain": [
       "[(7, 5), (18, 3), (5, 3)]"
      ]
     },
     "execution_count": 15,
     "metadata": {},
     "output_type": "execute_result"
    }
   ],
   "source": [
    "c = Counter(data)\n",
    "c.most_common(3)"
   ]
  },
  {
   "cell_type": "code",
   "execution_count": 2,
   "metadata": {
    "collapsed": false,
    "pycharm": {
     "name": "#%%\n"
    }
   },
   "outputs": [
    {
     "name": "stdout",
     "output_type": "stream",
     "text": [
      "13434\n"
     ]
    }
   ],
   "source": [
    "print('1' + \"3434\")"
   ]
  },
  {
   "cell_type": "code",
   "execution_count": 5,
   "metadata": {
    "collapsed": false,
    "pycharm": {
     "name": "#%%\n"
    }
   },
   "outputs": [
    {
     "name": "stdout",
     "output_type": "stream",
     "text": [
      "6.2838\n"
     ]
    }
   ],
   "source": [
    "import numpy as np\n",
    "a = []\n",
    "for _ in range(5):\n",
    "    a.append(float(input()))\n",
    "\n",
    "print(np.mean(a))"
   ]
  },
  {
   "cell_type": "code",
   "execution_count": 1,
   "metadata": {
    "collapsed": false,
    "pycharm": {
     "name": "#%%\n"
    }
   },
   "outputs": [
    {
     "name": "stdout",
     "output_type": "stream",
     "text": [
      "Hello world!\n"
     ]
    }
   ],
   "source": [
    "import __hello__"
   ]
  },
  {
   "cell_type": "code",
   "execution_count": null,
   "metadata": {
    "collapsed": false,
    "pycharm": {
     "name": "#%%\n"
    }
   },
   "outputs": [],
   "source": []
  }
 ],
 "metadata": {
  "kernelspec": {
   "display_name": "Python 3.9.12 ('base')",
   "language": "python",
   "name": "python3"
  },
  "language_info": {
   "codemirror_mode": {
    "name": "ipython",
    "version": 2
   },
   "file_extension": ".py",
   "mimetype": "text/x-python",
   "name": "python",
   "nbconvert_exporter": "python",
   "pygments_lexer": "ipython2",
   "version": "3.9.12"
  },
  "vscode": {
   "interpreter": {
    "hash": "ad2bdc8ecc057115af97d19610ffacc2b4e99fae6737bb82f5d7fb13d2f2c186"
   }
  }
 },
 "nbformat": 4,
 "nbformat_minor": 0
}
