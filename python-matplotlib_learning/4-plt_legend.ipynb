{
 "cells": [
  {
   "cell_type": "code",
   "execution_count": 1,
   "metadata": {
    "collapsed": true,
    "pycharm": {
     "name": "#%%\n"
    }
   },
   "outputs": [],
   "source": [
    "import matplotlib.pyplot as plt\n",
    "import numpy as np"
   ]
  },
  {
   "cell_type": "code",
   "execution_count": 4,
   "outputs": [
    {
     "name": "stdout",
     "output_type": "stream",
     "text": [
      "[-1.  -0.8 -0.6 -0.4 -0.2  0.   0.2  0.4  0.6  0.8  1. ]\n"
     ]
    },
    {
     "data": {
      "text/plain": "<Figure size 432x288 with 1 Axes>",
      "image/png": "[encoded data removed]"
     },
     "metadata": {
      "needs_background": "light"
     },
     "output_type": "display_data"
    }
   ],
   "source": [
    "x = np.linspace(-1, 1, 100)\n",
    "y_1 = 2 * x + 1\n",
    "y_2 = x ** 2\n",
    "\n",
    "# xy描述\n",
    "plt.xlabel('i am x')\n",
    "plt.ylabel('i am y')\n",
    "\n",
    "l1, = plt.plot(x, y_1, color=\"red\", linewidth=1, linestyle=\"--\")\n",
    "l2, = plt.plot(x, y_2, color=\"blue\", linewidth=5, linestyle=\"-\")\n",
    "# plt.legend(handles=[11, 12], labels=['test1', 'test2'], loc='best')\n",
    "\n",
    "new_tick = np.linspace(-1, 1, 11)\n",
    "print(new_tick)\n",
    "\n",
    "plt.xticks(new_tick)\n",
    "plt.yticks([-1, 0, 1, 2, 3],\n",
    "           ['level 1', 'level 2', 'level 3', 'level 4', 'level 5'])\n",
    "\n",
    "# get current axis\n",
    "ax = plt.gca()\n",
    "# 把右边和上边的边框去掉\n",
    "ax.spines['right'].set_color('none')\n",
    "ax.spines['top'].set_color('none')\n",
    "# # 把x轴的刻度设置为‘bottom’\n",
    "# ax.xaxis.set_ticks_position('bottom')\n",
    "# ax.yaxis.set_ticks_position('left')\n",
    "\n",
    "ax.spines['bottom'].set_position(('data', 0))\n",
    "ax.spines['left'].set_position(('data', 0))\n",
    "plt.show()"
   ],
   "metadata": {
    "collapsed": false,
    "pycharm": {
     "name": "#%%\n"
    }
   }
  },
  {
   "cell_type": "code",
   "execution_count": 5,
   "outputs": [
    {
     "name": "stdout",
     "output_type": "stream",
     "text": [
      "\u001B[1;30;40m这是一行黑色测试字体\u001B[0m\n",
      "\u001B[1;31;40m这是一行红色测试字体\u001B[0m\n",
      "\u001B[1;32;40m这是一行绿色测试字体\u001B[0m\n",
      "\u001B[1;33;40m这是一行黄色测试字体\u001B[0m\n",
      "\u001B[1;34;40m这是一行蓝色测试字体\u001B[0m\n",
      "\u001B[1;35;40m这是一行洋红测试字体\u001B[0m\n",
      "\u001B[1;36;40m这是一行青色测试字体\u001B[0m\n",
      "\u001B[1;37;40m这是一行白色测试字体\u001B[0m\n"
     ]
    }
   ],
   "source": [
    "print('\\033[1;30;40m这是一行黑色测试字体\\033[0m')\n",
    "print('\\033[1;31;40m这是一行红色测试字体\\033[0m')\n",
    "print('\\033[1;32;40m这是一行绿色测试字体\\033[0m')\n",
    "print('\\033[1;33;40m这是一行黄色测试字体\\033[0m')\n",
    "print('\\033[1;34;40m这是一行蓝色测试字体\\033[0m')\n",
    "print('\\033[1;35;40m这是一行洋红测试字体\\033[0m')\n",
    "print('\\033[1;36;40m这是一行青色测试字体\\033[0m')\n",
    "print('\\033[1;37;40m这是一行白色测试字体\\033[0m')"
   ],
   "metadata": {
    "collapsed": false,
    "pycharm": {
     "name": "#%%\n"
    }
   }
  }
 ],
 "metadata": {
  "kernelspec": {
   "display_name": "Python 3",
   "language": "python",
   "name": "python3"
  },
  "language_info": {
   "codemirror_mode": {
    "name": "ipython",
    "version": 2
   },
   "file_extension": ".py",
   "mimetype": "text/x-python",
   "name": "python",
   "nbconvert_exporter": "python",
   "pygments_lexer": "ipython2",
   "version": "2.7.6"
  }
 },
 "nbformat": 4,
 "nbformat_minor": 0
}